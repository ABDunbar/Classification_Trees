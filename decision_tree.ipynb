{
 "cells": [
  {
   "cell_type": "code",
   "execution_count": 1,
   "metadata": {},
   "outputs": [],
   "source": [
    "import pandas as pd\n",
    "import numpy as np\n",
    "import matplotlib.pyplot as plt\n",
    "import seaborn as sns\n",
    "from sklearn.tree import DecisionTreeClassifier, export_graphviz\n",
    "from sklearn.model_selection import train_test_split, cross_val_predict, cross_val_score\n",
    "from sklearn.metrics import precision_score, recall_score, f1_score, precision_recall_curve\n",
    "from sklearn.metrics import roc_curve, roc_auc_score\n",
    "from sklearn.metrics import confusion_matrix, classification_report\n",
    "from Packages.data import load_csv_to_dataframe, plot_roc_curve, plot_feature_importance # show_tree,\n",
    "%matplotlib inline"
   ]
  },
  {
   "cell_type": "markdown",
   "metadata": {},
   "source": [
    "### Load data from Packages.data"
   ]
  },
  {
   "cell_type": "code",
   "execution_count": 2,
   "metadata": {},
   "outputs": [
    {
     "name": "stdout",
     "output_type": "stream",
     "text": [
      "Index(['customerID', 'gender', 'SeniorCitizen', 'Partner', 'Dependents',\n",
      "       'tenure', 'PhoneService', 'MultipleLines', 'InternetService',\n",
      "       'OnlineSecurity', 'OnlineBackup', 'DeviceProtection', 'TechSupport',\n",
      "       'StreamingTV', 'StreamingMovies', 'Contract', 'PaperlessBilling',\n",
      "       'PaymentMethod', 'MonthlyCharges', 'TotalCharges', 'Churn', 'Churn_cat',\n",
      "       'tenure_cat', 'MonthlyCharges_cat', 'TotalCharges_cat'],\n",
      "      dtype='object')\n"
     ]
    }
   ],
   "source": [
    "file = '../Data/data.csv'\n",
    "df = load_csv_to_dataframe(file)\n",
    "print(df.columns)"
   ]
  },
  {
   "cell_type": "markdown",
   "metadata": {},
   "source": [
    "### Prepare dataframe for train, validation, test split\n",
    "\n",
    "* 'customerID': drop. A random string assigned to each customer.\n",
    "* 'tenure'    : drop. A categorical feature was created for this.\n",
    "* 'MonthlyCharges' : drop. A categorical feature was created for this.\n",
    "* 'TotalCharges'   : drop. A categorical feature ...\n",
    "* 'Churn'          : drop. The label is dropped from the X_train, X_test, X_valid datasets\n",
    "\n",
    "The 'X' dataframe is then one hot encoded via pandas.get_dummies()"
   ]
  },
  {
   "cell_type": "code",
   "execution_count": 3,
   "metadata": {},
   "outputs": [],
   "source": [
    "X = df.drop(['customerID', 'tenure', 'MonthlyCharges', 'TotalCharges', 'Churn', 'Churn_cat'], axis=1)\n",
    "X = pd.get_dummies(X, drop_first=True)\n",
    "y = df['Churn_cat']"
   ]
  },
  {
   "cell_type": "code",
   "execution_count": 37,
   "metadata": {},
   "outputs": [
    {
     "data": {
      "text/plain": [
       "(No     5163\n",
       " Yes    1869\n",
       " Name: Churn, dtype: int64,\n",
       " No     0.734215\n",
       " Yes    0.265785\n",
       " Name: Churn, dtype: float64)"
      ]
     },
     "execution_count": 37,
     "metadata": {},
     "output_type": "execute_result"
    }
   ],
   "source": [
    "df['Churn'].value_counts(), df['Churn'].value_counts()/ len(df)"
   ]
  },
  {
   "cell_type": "code",
   "execution_count": 34,
   "metadata": {},
   "outputs": [
    {
     "data": {
      "text/plain": [
       "0    5163\n",
       "1    1869\n",
       "Name: Churn_cat, dtype: int64"
      ]
     },
     "execution_count": 34,
     "metadata": {},
     "output_type": "execute_result"
    }
   ],
   "source": [
    "df['Churn_cat'].value_counts()"
   ]
  },
  {
   "cell_type": "markdown",
   "metadata": {},
   "source": [
    "### Split data into training, validation and test\n",
    "\n",
    "The full dataset is split into three parts (training, test, validation).  \n",
    "\n",
    "Stratified splits due to the unequal partitioning of the dataset (No: 5163 (73%), Yes: 1869 (27%))"
   ]
  },
  {
   "cell_type": "code",
   "execution_count": 5,
   "metadata": {},
   "outputs": [],
   "source": [
    "X_trainval, X_test, y_trainval, y_test = train_test_split(X, y, test_size=0.2, stratify=y, random_state=42)\n",
    "X_train, X_valid, y_train, y_valid = train_test_split(X_trainval, y_trainval, test_size=0.33,  random_state=42)"
   ]
  },
  {
   "cell_type": "code",
   "execution_count": 6,
   "metadata": {},
   "outputs": [
    {
     "name": "stdout",
     "output_type": "stream",
     "text": [
      "Dataframe: (7032, 25), X.shape: (7032, 30), y.shape: (7032,)\n",
      "training shape: (3768, 30), validiation shape: (1857, 30), testing shape: (1407, 30)\n",
      "training labels: (3768,), validation shape: (1857,), testing labels: (1407,)\n"
     ]
    }
   ],
   "source": [
    "print(f\"Dataframe: {df.shape}, X.shape: {X.shape}, y.shape: {y.shape}\")\n",
    "print(f\"training shape: {X_train.shape}, validiation shape: {X_valid.shape}, testing shape: {X_test.shape}\")\n",
    "print(f\"training labels: {y_train.shape}, validation shape: {y_valid.shape}, testing labels: {y_test.shape}\")"
   ]
  },
  {
   "cell_type": "markdown",
   "metadata": {},
   "source": [
    "### Create DecisionTreeClassifier, fit and predict\n",
    "\n",
    "The assignment is to compare a Decision Tree classifier with Random Forest"
   ]
  },
  {
   "cell_type": "code",
   "execution_count": 7,
   "metadata": {},
   "outputs": [],
   "source": [
    "# From the future....\n",
    "# Best params: {'max_depth': 5, 'max_features': 30, 'max_leaf_nodes': 10, 'min_samples_split': 3}\n",
    "tree_clf = DecisionTreeClassifier(max_depth=5, max_features=30, max_leaf_nodes=10, min_samples_split=3)  \n",
    "tree_clf.fit(X_train, y_train)\n",
    "y_predict = tree_clf.predict(X_test)"
   ]
  },
  {
   "cell_type": "code",
   "execution_count": 8,
   "metadata": {},
   "outputs": [
    {
     "name": "stdout",
     "output_type": "stream",
     "text": [
      "Accuracy on training set: 0.8575\n",
      "Accuracy on test set:     0.8571\n"
     ]
    }
   ],
   "source": [
    "print(f\"Accuracy on training set: {tree_clf.score(X_train, y_train):.4f}\")\n",
    "print(f\"Accuracy on test set:     {tree_clf.score(X_test, y_test):.4f}\")"
   ]
  },
  {
   "cell_type": "markdown",
   "metadata": {},
   "source": [
    "### Accuracy of train / test\n",
    "\n",
    "Accuracy reports how many correct out of total.  This can be misleading if the dataset is very highly skewed.  In this case predictions of only 1 (no churn) will score above 70%!"
   ]
  },
  {
   "cell_type": "code",
   "execution_count": 9,
   "metadata": {},
   "outputs": [
    {
     "data": {
      "text/plain": [
       "array([0.75      , 0.73407643, 0.71815287])"
      ]
     },
     "execution_count": 9,
     "metadata": {},
     "output_type": "execute_result"
    }
   ],
   "source": [
    "from sklearn.base import BaseEstimator\n",
    "class NeverChurnClassifier(BaseEstimator):\n",
    "    def fit(self, X, y=None):\n",
    "        return self\n",
    "    def predict(self, X):\n",
    "        return np.zeros((len(X), 1), dtype=bool)\n",
    "    \n",
    "never_churn_clf = NeverChurnClassifier()\n",
    "cross_val_score(never_churn_clf, X_train, y_train, cv=3, scoring='accuracy')"
   ]
  },
  {
   "cell_type": "markdown",
   "metadata": {},
   "source": [
    "### Cross-Validation\n",
    "\n",
    "Cross-Validation predictions based on default DecisionTreeClassifer() (tree_clf)"
   ]
  },
  {
   "cell_type": "code",
   "execution_count": 10,
   "metadata": {},
   "outputs": [],
   "source": [
    "y_predict_cv = cross_val_predict(tree_clf, X_train, y_train, cv=5)"
   ]
  },
  {
   "cell_type": "markdown",
   "metadata": {},
   "source": [
    "### Confusion matrix results for predict and cross-val predict"
   ]
  },
  {
   "cell_type": "code",
   "execution_count": 11,
   "metadata": {},
   "outputs": [
    {
     "name": "stdout",
     "output_type": "stream",
     "text": [
      "[[968  65]\n",
      " [136 238]]\n",
      "[[2561  205]\n",
      " [ 340  662]]\n"
     ]
    }
   ],
   "source": [
    "# Confusion Matrix results\n",
    "print(confusion_matrix(y_test, y_predict))\n",
    "print(confusion_matrix(y_train, y_predict_cv))"
   ]
  },
  {
   "cell_type": "markdown",
   "metadata": {},
   "source": [
    "### Classification Report\n",
    "\n",
    "Classification report for a 'straight' Decision Tree classifier and one for a Cross-Validation (5-fold)."
   ]
  },
  {
   "cell_type": "code",
   "execution_count": 12,
   "metadata": {},
   "outputs": [
    {
     "name": "stdout",
     "output_type": "stream",
     "text": [
      "              precision    recall  f1-score   support\n",
      "\n",
      "           0       0.88      0.94      0.91      1033\n",
      "           1       0.79      0.64      0.70       374\n",
      "\n",
      "    accuracy                           0.86      1407\n",
      "   macro avg       0.83      0.79      0.80      1407\n",
      "weighted avg       0.85      0.86      0.85      1407\n",
      "\n",
      "              precision    recall  f1-score   support\n",
      "\n",
      "           0       0.88      0.93      0.90      2766\n",
      "           1       0.76      0.66      0.71      1002\n",
      "\n",
      "    accuracy                           0.86      3768\n",
      "   macro avg       0.82      0.79      0.81      3768\n",
      "weighted avg       0.85      0.86      0.85      3768\n",
      "\n"
     ]
    }
   ],
   "source": [
    "print(classification_report(y_test, y_predict))\n",
    "print(classification_report(y_train, y_predict_cv))"
   ]
  },
  {
   "cell_type": "code",
   "execution_count": 13,
   "metadata": {
    "scrolled": true
   },
   "outputs": [
    {
     "name": "stdout",
     "output_type": "stream",
     "text": [
      "Precision, Recall, F1 scores for Churn=yes\n",
      "==========================================\n",
      "Precision: 0.7855\n",
      "Recall: 0.6364\n",
      "F1: 0.7031\n",
      "********Cross-Validation ********\n",
      "Precision (cv): 0.7636\n",
      "Recall (cv): 0.6607\n",
      "F1 (cv): 0.7084\n"
     ]
    }
   ],
   "source": [
    "# Precision, Recall and F1 Scores\n",
    "print(\"Precision, Recall, F1 scores for Churn=yes\")\n",
    "print(\"=\"*42)\n",
    "print(f\"Precision: {precision_score(y_test, y_predict):.4f}\")\n",
    "print(f\"Recall: {recall_score(y_test, y_predict):.4f}\")\n",
    "print(f\"F1: {f1_score(y_test, y_predict):.4f}\")\n",
    "print('*'*8 + \"Cross-Validation \"+'*'*8)\n",
    "print(f\"Precision (cv): {precision_score(y_train, y_predict_cv):.4f}\")\n",
    "print(f\"Recall (cv): {recall_score(y_train, y_predict_cv):.4f}\")\n",
    "print(f\"F1 (cv): {f1_score(y_train, y_predict_cv):.4f}\")"
   ]
  },
  {
   "cell_type": "markdown",
   "metadata": {},
   "source": [
    "### ROC Curve"
   ]
  },
  {
   "cell_type": "code",
   "execution_count": 14,
   "metadata": {},
   "outputs": [],
   "source": [
    "# Compute y scores for input to metrics\n",
    "y_probas = cross_val_predict(tree_clf, X_train, y_train, cv=5, method='predict_proba')  # method='decision_function'\n",
    "y_scores = y_probas[:, 1]"
   ]
  },
  {
   "cell_type": "code",
   "execution_count": 15,
   "metadata": {},
   "outputs": [
    {
     "data": {
      "image/png": "[encoded data removed]",
      "text/plain": [
       "<Figure size 432x288 with 1 Axes>"
      ]
     },
     "metadata": {
      "needs_background": "light"
     },
     "output_type": "display_data"
    }
   ],
   "source": [
    "fpr, tpr, thresholds = roc_curve(y_train, y_scores)\n",
    "plot_roc_curve(fpr, tpr)"
   ]
  },
  {
   "cell_type": "markdown",
   "metadata": {},
   "source": [
    "### ROC AUC\n",
    "\n",
    "The Area Under Curve (AUC) returns ..."
   ]
  },
  {
   "cell_type": "code",
   "execution_count": 16,
   "metadata": {},
   "outputs": [
    {
     "name": "stdout",
     "output_type": "stream",
     "text": [
      "ROC AUC: 0.8831\n"
     ]
    }
   ],
   "source": [
    "# ROC AUC Curve\n",
    "print(f\"ROC AUC: {roc_auc_score(y_train, y_scores):.4f}\")"
   ]
  },
  {
   "cell_type": "markdown",
   "metadata": {},
   "source": [
    "### Feature Importance"
   ]
  },
  {
   "cell_type": "code",
   "execution_count": 17,
   "metadata": {},
   "outputs": [
    {
     "data": {
      "image/png": "[encoded data removed]",
      "text/plain": [
       "<Figure size 864x576 with 1 Axes>"
      ]
     },
     "metadata": {
      "needs_background": "light"
     },
     "output_type": "display_data"
    }
   ],
   "source": [
    "# print(f\"Feature importances:\\n{tree_clf.feature_importances_}\")\n",
    "\n",
    "plot_feature_importance(X, tree_clf)"
   ]
  },
  {
   "cell_type": "markdown",
   "metadata": {},
   "source": [
    "## Grid Search CV\n",
    "\n",
    "Consider exploring the following parameters...\n",
    "\n",
    "* 'criterion' : ['gini', 'entropy']\n",
    "* 'max_depth' :\n",
    "* 'min_samples_split' :\n",
    "* 'min_samples_leaf' :\n",
    "* 'max_features' :\n",
    "* 'max_leaf_nodes' :"
   ]
  },
  {
   "cell_type": "code",
   "execution_count": 18,
   "metadata": {},
   "outputs": [
    {
     "name": "stdout",
     "output_type": "stream",
     "text": [
      "Fitting 5 folds for each of 108 candidates, totalling 540 fits\n"
     ]
    },
    {
     "name": "stderr",
     "output_type": "stream",
     "text": [
      "[Parallel(n_jobs=1)]: Using backend SequentialBackend with 1 concurrent workers.\n",
      "[Parallel(n_jobs=1)]: Done 540 out of 540 | elapsed:    4.0s finished\n"
     ]
    },
    {
     "data": {
      "text/plain": [
       "GridSearchCV(cv=5, estimator=DecisionTreeClassifier(random_state=42),\n",
       "             param_grid={'max_depth': [2, 5, 10, 20],\n",
       "                         'max_features': [3, 10, 30],\n",
       "                         'max_leaf_nodes': [3, 10, 30],\n",
       "                         'min_samples_split': [3, 10, 30]},\n",
       "             verbose=1)"
      ]
     },
     "execution_count": 18,
     "metadata": {},
     "output_type": "execute_result"
    }
   ],
   "source": [
    "# Grid Search CV\n",
    "from sklearn.model_selection import GridSearchCV\n",
    "params = {'max_depth' : [2, 5, 10, 20],\n",
    "          'min_samples_split': [3, 10, 30],\n",
    "          'max_leaf_nodes': [3, 10, 30],\n",
    "          'max_features': [3, 10, 30]}\n",
    "# \n",
    "grid_search_cv = GridSearchCV(DecisionTreeClassifier(random_state=42), params, verbose=1, cv=5)\n",
    "grid_search_cv.fit(X_train, y_train)"
   ]
  },
  {
   "cell_type": "markdown",
   "metadata": {},
   "source": [
    "### Grid Search CV: best score, best parameters"
   ]
  },
  {
   "cell_type": "code",
   "execution_count": 19,
   "metadata": {},
   "outputs": [
    {
     "name": "stdout",
     "output_type": "stream",
     "text": [
      "Grid search CV, best estimator: DecisionTreeClassifier(max_depth=5, max_features=30, max_leaf_nodes=10,\n",
      "                       min_samples_split=3, random_state=42)\n",
      "Best score: {'max_depth': 5, 'max_features': 30, 'max_leaf_nodes': 10, 'min_samples_split': 3}\n",
      "Best params: {'max_depth': 5, 'max_features': 30, 'max_leaf_nodes': 10, 'min_samples_split': 3}\n",
      "Best index: 48\n"
     ]
    }
   ],
   "source": [
    "print(f\"Grid search CV, best estimator: {grid_search_cv.best_estimator_}\")\n",
    "print(f\"Best score: {grid_search_cv.best_params_}\")\n",
    "print(f\"Best params: {grid_search_cv.best_params_}\")\n",
    "print(f\"Best index: {grid_search_cv.best_index_}\")"
   ]
  },
  {
   "cell_type": "markdown",
   "metadata": {},
   "source": [
    "### Grid Search CV: best parameters for Validation"
   ]
  },
  {
   "cell_type": "code",
   "execution_count": 20,
   "metadata": {},
   "outputs": [],
   "source": [
    "# find best parameters from fit on X_train, y_train\n",
    "best_params = grid_search_cv.best_params_\n",
    "# Instantiate Decision Tree Classifier from those best parameters\n",
    "tree_clf_bp = DecisionTreeClassifier(**best_params)\n",
    "# Fit Classifier on Validation set\n",
    "tree_clf_bp.fit(X_valid, y_valid)\n",
    "# check on test set\n",
    "bp_score = tree_clf_bp.score(X_test, y_test)"
   ]
  },
  {
   "cell_type": "code",
   "execution_count": 21,
   "metadata": {},
   "outputs": [
    {
     "name": "stdout",
     "output_type": "stream",
     "text": [
      "(108, 17)\n"
     ]
    },
    {
     "data": {
      "text/html": [
       "<div>\n",
       "<style scoped>\n",
       "    .dataframe tbody tr th:only-of-type {\n",
       "        vertical-align: middle;\n",
       "    }\n",
       "\n",
       "    .dataframe tbody tr th {\n",
       "        vertical-align: top;\n",
       "    }\n",
       "\n",
       "    .dataframe thead th {\n",
       "        text-align: right;\n",
       "    }\n",
       "</style>\n",
       "<table border=\"1\" class=\"dataframe\">\n",
       "  <thead>\n",
       "    <tr style=\"text-align: right;\">\n",
       "      <th></th>\n",
       "      <th>mean_fit_time</th>\n",
       "      <th>std_fit_time</th>\n",
       "      <th>mean_score_time</th>\n",
       "      <th>std_score_time</th>\n",
       "      <th>param_max_depth</th>\n",
       "      <th>param_max_features</th>\n",
       "      <th>param_max_leaf_nodes</th>\n",
       "      <th>param_min_samples_split</th>\n",
       "      <th>params</th>\n",
       "      <th>split0_test_score</th>\n",
       "      <th>split1_test_score</th>\n",
       "      <th>split2_test_score</th>\n",
       "      <th>split3_test_score</th>\n",
       "      <th>split4_test_score</th>\n",
       "      <th>mean_test_score</th>\n",
       "      <th>std_test_score</th>\n",
       "      <th>rank_test_score</th>\n",
       "    </tr>\n",
       "  </thead>\n",
       "  <tbody>\n",
       "    <tr>\n",
       "      <th>0</th>\n",
       "      <td>0.004724</td>\n",
       "      <td>0.000464</td>\n",
       "      <td>0.002496</td>\n",
       "      <td>0.000153</td>\n",
       "      <td>2</td>\n",
       "      <td>3</td>\n",
       "      <td>3</td>\n",
       "      <td>3</td>\n",
       "      <td>{'max_depth': 2, 'max_features': 3, 'max_leaf_...</td>\n",
       "      <td>0.734748</td>\n",
       "      <td>0.733422</td>\n",
       "      <td>0.736074</td>\n",
       "      <td>0.734396</td>\n",
       "      <td>0.734396</td>\n",
       "      <td>0.734607</td>\n",
       "      <td>0.000856</td>\n",
       "      <td>97</td>\n",
       "    </tr>\n",
       "    <tr>\n",
       "      <th>1</th>\n",
       "      <td>0.003953</td>\n",
       "      <td>0.000197</td>\n",
       "      <td>0.002261</td>\n",
       "      <td>0.000091</td>\n",
       "      <td>2</td>\n",
       "      <td>3</td>\n",
       "      <td>3</td>\n",
       "      <td>10</td>\n",
       "      <td>{'max_depth': 2, 'max_features': 3, 'max_leaf_...</td>\n",
       "      <td>0.734748</td>\n",
       "      <td>0.733422</td>\n",
       "      <td>0.736074</td>\n",
       "      <td>0.734396</td>\n",
       "      <td>0.734396</td>\n",
       "      <td>0.734607</td>\n",
       "      <td>0.000856</td>\n",
       "      <td>97</td>\n",
       "    </tr>\n",
       "    <tr>\n",
       "      <th>2</th>\n",
       "      <td>0.003608</td>\n",
       "      <td>0.000041</td>\n",
       "      <td>0.002104</td>\n",
       "      <td>0.000061</td>\n",
       "      <td>2</td>\n",
       "      <td>3</td>\n",
       "      <td>3</td>\n",
       "      <td>30</td>\n",
       "      <td>{'max_depth': 2, 'max_features': 3, 'max_leaf_...</td>\n",
       "      <td>0.734748</td>\n",
       "      <td>0.733422</td>\n",
       "      <td>0.736074</td>\n",
       "      <td>0.734396</td>\n",
       "      <td>0.734396</td>\n",
       "      <td>0.734607</td>\n",
       "      <td>0.000856</td>\n",
       "      <td>97</td>\n",
       "    </tr>\n",
       "    <tr>\n",
       "      <th>3</th>\n",
       "      <td>0.003970</td>\n",
       "      <td>0.000472</td>\n",
       "      <td>0.002216</td>\n",
       "      <td>0.000122</td>\n",
       "      <td>2</td>\n",
       "      <td>3</td>\n",
       "      <td>10</td>\n",
       "      <td>3</td>\n",
       "      <td>{'max_depth': 2, 'max_features': 3, 'max_leaf_...</td>\n",
       "      <td>0.746684</td>\n",
       "      <td>0.751989</td>\n",
       "      <td>0.736074</td>\n",
       "      <td>0.763612</td>\n",
       "      <td>0.742364</td>\n",
       "      <td>0.748145</td>\n",
       "      <td>0.009330</td>\n",
       "      <td>91</td>\n",
       "    </tr>\n",
       "    <tr>\n",
       "      <th>4</th>\n",
       "      <td>0.003718</td>\n",
       "      <td>0.000123</td>\n",
       "      <td>0.002253</td>\n",
       "      <td>0.000211</td>\n",
       "      <td>2</td>\n",
       "      <td>3</td>\n",
       "      <td>10</td>\n",
       "      <td>10</td>\n",
       "      <td>{'max_depth': 2, 'max_features': 3, 'max_leaf_...</td>\n",
       "      <td>0.746684</td>\n",
       "      <td>0.751989</td>\n",
       "      <td>0.736074</td>\n",
       "      <td>0.763612</td>\n",
       "      <td>0.742364</td>\n",
       "      <td>0.748145</td>\n",
       "      <td>0.009330</td>\n",
       "      <td>91</td>\n",
       "    </tr>\n",
       "  </tbody>\n",
       "</table>\n",
       "</div>"
      ],
      "text/plain": [
       "   mean_fit_time  std_fit_time  mean_score_time  std_score_time  \\\n",
       "0       0.004724      0.000464         0.002496        0.000153   \n",
       "1       0.003953      0.000197         0.002261        0.000091   \n",
       "2       0.003608      0.000041         0.002104        0.000061   \n",
       "3       0.003970      0.000472         0.002216        0.000122   \n",
       "4       0.003718      0.000123         0.002253        0.000211   \n",
       "\n",
       "  param_max_depth param_max_features param_max_leaf_nodes  \\\n",
       "0               2                  3                    3   \n",
       "1               2                  3                    3   \n",
       "2               2                  3                    3   \n",
       "3               2                  3                   10   \n",
       "4               2                  3                   10   \n",
       "\n",
       "  param_min_samples_split                                             params  \\\n",
       "0                       3  {'max_depth': 2, 'max_features': 3, 'max_leaf_...   \n",
       "1                      10  {'max_depth': 2, 'max_features': 3, 'max_leaf_...   \n",
       "2                      30  {'max_depth': 2, 'max_features': 3, 'max_leaf_...   \n",
       "3                       3  {'max_depth': 2, 'max_features': 3, 'max_leaf_...   \n",
       "4                      10  {'max_depth': 2, 'max_features': 3, 'max_leaf_...   \n",
       "\n",
       "   split0_test_score  split1_test_score  split2_test_score  split3_test_score  \\\n",
       "0           0.734748           0.733422           0.736074           0.734396   \n",
       "1           0.734748           0.733422           0.736074           0.734396   \n",
       "2           0.734748           0.733422           0.736074           0.734396   \n",
       "3           0.746684           0.751989           0.736074           0.763612   \n",
       "4           0.746684           0.751989           0.736074           0.763612   \n",
       "\n",
       "   split4_test_score  mean_test_score  std_test_score  rank_test_score  \n",
       "0           0.734396         0.734607        0.000856               97  \n",
       "1           0.734396         0.734607        0.000856               97  \n",
       "2           0.734396         0.734607        0.000856               97  \n",
       "3           0.742364         0.748145        0.009330               91  \n",
       "4           0.742364         0.748145        0.009330               91  "
      ]
     },
     "execution_count": 21,
     "metadata": {},
     "output_type": "execute_result"
    }
   ],
   "source": [
    "y_predict_bp = tree_clf_bp.predict(X_test)\n",
    "#y_predict_bp.shape\n",
    "\n",
    "results = pd.DataFrame(grid_search_cv.cv_results_)\n",
    "print(results.shape)\n",
    "results.head()"
   ]
  },
  {
   "cell_type": "code",
   "execution_count": 22,
   "metadata": {},
   "outputs": [
    {
     "name": "stdout",
     "output_type": "stream",
     "text": [
      "0.857092239201155 {'max_depth': 2, 'max_features': 3, 'max_leaf_nodes': 3, 'min_samples_split': 3}\n",
      "0.857092239201155 {'max_depth': 2, 'max_features': 3, 'max_leaf_nodes': 3, 'min_samples_split': 10}\n",
      "0.857092239201155 {'max_depth': 2, 'max_features': 3, 'max_leaf_nodes': 3, 'min_samples_split': 30}\n",
      "0.8649536526574831 {'max_depth': 2, 'max_features': 3, 'max_leaf_nodes': 10, 'min_samples_split': 3}\n",
      "0.8649536526574831 {'max_depth': 2, 'max_features': 3, 'max_leaf_nodes': 10, 'min_samples_split': 10}\n",
      "0.8649536526574831 {'max_depth': 2, 'max_features': 3, 'max_leaf_nodes': 10, 'min_samples_split': 30}\n",
      "0.8649536526574831 {'max_depth': 2, 'max_features': 3, 'max_leaf_nodes': 30, 'min_samples_split': 3}\n",
      "0.8649536526574831 {'max_depth': 2, 'max_features': 3, 'max_leaf_nodes': 30, 'min_samples_split': 10}\n",
      "0.8649536526574831 {'max_depth': 2, 'max_features': 3, 'max_leaf_nodes': 30, 'min_samples_split': 30}\n",
      "0.8907970967982932 {'max_depth': 2, 'max_features': 10, 'max_leaf_nodes': 3, 'min_samples_split': 3}\n",
      "0.8907970967982932 {'max_depth': 2, 'max_features': 10, 'max_leaf_nodes': 3, 'min_samples_split': 10}\n",
      "0.8907970967982932 {'max_depth': 2, 'max_features': 10, 'max_leaf_nodes': 3, 'min_samples_split': 30}\n",
      "0.893030532182012 {'max_depth': 2, 'max_features': 10, 'max_leaf_nodes': 10, 'min_samples_split': 3}\n",
      "0.893030532182012 {'max_depth': 2, 'max_features': 10, 'max_leaf_nodes': 10, 'min_samples_split': 10}\n",
      "0.893030532182012 {'max_depth': 2, 'max_features': 10, 'max_leaf_nodes': 10, 'min_samples_split': 30}\n",
      "0.893030532182012 {'max_depth': 2, 'max_features': 10, 'max_leaf_nodes': 30, 'min_samples_split': 3}\n",
      "0.893030532182012 {'max_depth': 2, 'max_features': 10, 'max_leaf_nodes': 30, 'min_samples_split': 10}\n",
      "0.893030532182012 {'max_depth': 2, 'max_features': 10, 'max_leaf_nodes': 30, 'min_samples_split': 30}\n",
      "0.9211193183920064 {'max_depth': 2, 'max_features': 30, 'max_leaf_nodes': 3, 'min_samples_split': 3}\n",
      "0.9211193183920064 {'max_depth': 2, 'max_features': 30, 'max_leaf_nodes': 3, 'min_samples_split': 10}\n",
      "0.9211193183920064 {'max_depth': 2, 'max_features': 30, 'max_leaf_nodes': 3, 'min_samples_split': 30}\n",
      "0.9211193183920064 {'max_depth': 2, 'max_features': 30, 'max_leaf_nodes': 10, 'min_samples_split': 3}\n",
      "0.9211193183920064 {'max_depth': 2, 'max_features': 30, 'max_leaf_nodes': 10, 'min_samples_split': 10}\n",
      "0.9211193183920064 {'max_depth': 2, 'max_features': 30, 'max_leaf_nodes': 10, 'min_samples_split': 30}\n",
      "0.9211193183920064 {'max_depth': 2, 'max_features': 30, 'max_leaf_nodes': 30, 'min_samples_split': 3}\n",
      "0.9211193183920064 {'max_depth': 2, 'max_features': 30, 'max_leaf_nodes': 30, 'min_samples_split': 10}\n",
      "0.9211193183920064 {'max_depth': 2, 'max_features': 30, 'max_leaf_nodes': 30, 'min_samples_split': 30}\n",
      "0.857092239201155 {'max_depth': 5, 'max_features': 3, 'max_leaf_nodes': 3, 'min_samples_split': 3}\n",
      "0.857092239201155 {'max_depth': 5, 'max_features': 3, 'max_leaf_nodes': 3, 'min_samples_split': 10}\n",
      "0.857092239201155 {'max_depth': 5, 'max_features': 3, 'max_leaf_nodes': 3, 'min_samples_split': 30}\n",
      "0.8803092814125805 {'max_depth': 5, 'max_features': 3, 'max_leaf_nodes': 10, 'min_samples_split': 3}\n",
      "0.8803092814125805 {'max_depth': 5, 'max_features': 3, 'max_leaf_nodes': 10, 'min_samples_split': 10}\n",
      "0.8786504760471281 {'max_depth': 5, 'max_features': 3, 'max_leaf_nodes': 10, 'min_samples_split': 30}\n",
      "0.8893075983883209 {'max_depth': 5, 'max_features': 3, 'max_leaf_nodes': 30, 'min_samples_split': 3}\n",
      "0.8907992717370882 {'max_depth': 5, 'max_features': 3, 'max_leaf_nodes': 30, 'min_samples_split': 10}\n",
      "0.8907992717370882 {'max_depth': 5, 'max_features': 3, 'max_leaf_nodes': 30, 'min_samples_split': 30}\n",
      "0.8907970967982932 {'max_depth': 5, 'max_features': 10, 'max_leaf_nodes': 3, 'min_samples_split': 3}\n",
      "0.8907970967982932 {'max_depth': 5, 'max_features': 10, 'max_leaf_nodes': 3, 'min_samples_split': 10}\n",
      "0.8907970967982932 {'max_depth': 5, 'max_features': 10, 'max_leaf_nodes': 3, 'min_samples_split': 30}\n",
      "0.9008776590867882 {'max_depth': 5, 'max_features': 10, 'max_leaf_nodes': 10, 'min_samples_split': 3}\n",
      "0.9008776590867882 {'max_depth': 5, 'max_features': 10, 'max_leaf_nodes': 10, 'min_samples_split': 10}\n",
      "0.9008776590867882 {'max_depth': 5, 'max_features': 10, 'max_leaf_nodes': 10, 'min_samples_split': 30}\n",
      "0.9073339046444537 {'max_depth': 5, 'max_features': 10, 'max_leaf_nodes': 30, 'min_samples_split': 3}\n",
      "0.9073339046444537 {'max_depth': 5, 'max_features': 10, 'max_leaf_nodes': 30, 'min_samples_split': 10}\n",
      "0.9076261997629478 {'max_depth': 5, 'max_features': 10, 'max_leaf_nodes': 30, 'min_samples_split': 30}\n",
      "0.9211193183920064 {'max_depth': 5, 'max_features': 30, 'max_leaf_nodes': 3, 'min_samples_split': 3}\n",
      "0.9211193183920064 {'max_depth': 5, 'max_features': 30, 'max_leaf_nodes': 3, 'min_samples_split': 10}\n",
      "0.9211193183920064 {'max_depth': 5, 'max_features': 30, 'max_leaf_nodes': 3, 'min_samples_split': 30}\n",
      "0.9248596933727234 {'max_depth': 5, 'max_features': 30, 'max_leaf_nodes': 10, 'min_samples_split': 3}\n",
      "0.9248596933727234 {'max_depth': 5, 'max_features': 30, 'max_leaf_nodes': 10, 'min_samples_split': 10}\n",
      "0.9248596933727234 {'max_depth': 5, 'max_features': 30, 'max_leaf_nodes': 10, 'min_samples_split': 30}\n",
      "0.9231351762822986 {'max_depth': 5, 'max_features': 30, 'max_leaf_nodes': 30, 'min_samples_split': 3}\n",
      "0.9231351762822986 {'max_depth': 5, 'max_features': 30, 'max_leaf_nodes': 30, 'min_samples_split': 10}\n",
      "0.92399716998844 {'max_depth': 5, 'max_features': 30, 'max_leaf_nodes': 30, 'min_samples_split': 30}\n",
      "0.857092239201155 {'max_depth': 10, 'max_features': 3, 'max_leaf_nodes': 3, 'min_samples_split': 3}\n",
      "0.857092239201155 {'max_depth': 10, 'max_features': 3, 'max_leaf_nodes': 3, 'min_samples_split': 10}\n",
      "0.857092239201155 {'max_depth': 10, 'max_features': 3, 'max_leaf_nodes': 3, 'min_samples_split': 30}\n",
      "0.8810622514261314 {'max_depth': 10, 'max_features': 3, 'max_leaf_nodes': 10, 'min_samples_split': 3}\n",
      "0.8810622514261314 {'max_depth': 10, 'max_features': 3, 'max_leaf_nodes': 10, 'min_samples_split': 10}\n",
      "0.8794048663754337 {'max_depth': 10, 'max_features': 3, 'max_leaf_nodes': 10, 'min_samples_split': 30}\n",
      "0.8860207746124821 {'max_depth': 10, 'max_features': 3, 'max_leaf_nodes': 30, 'min_samples_split': 3}\n",
      "0.8879673533136591 {'max_depth': 10, 'max_features': 3, 'max_leaf_nodes': 30, 'min_samples_split': 10}\n",
      "0.8860201782488187 {'max_depth': 10, 'max_features': 3, 'max_leaf_nodes': 30, 'min_samples_split': 30}\n",
      "0.8907970967982932 {'max_depth': 10, 'max_features': 10, 'max_leaf_nodes': 3, 'min_samples_split': 3}\n",
      "0.8907970967982932 {'max_depth': 10, 'max_features': 10, 'max_leaf_nodes': 3, 'min_samples_split': 10}\n",
      "0.8907970967982932 {'max_depth': 10, 'max_features': 10, 'max_leaf_nodes': 3, 'min_samples_split': 30}\n",
      "0.9011720482907086 {'max_depth': 10, 'max_features': 10, 'max_leaf_nodes': 10, 'min_samples_split': 3}\n",
      "0.9011720482907086 {'max_depth': 10, 'max_features': 10, 'max_leaf_nodes': 10, 'min_samples_split': 10}\n",
      "0.9011720482907086 {'max_depth': 10, 'max_features': 10, 'max_leaf_nodes': 10, 'min_samples_split': 30}\n",
      "0.9138902456877598 {'max_depth': 10, 'max_features': 10, 'max_leaf_nodes': 30, 'min_samples_split': 3}\n",
      "0.9149078490275948 {'max_depth': 10, 'max_features': 10, 'max_leaf_nodes': 30, 'min_samples_split': 10}\n",
      "0.9137437624147687 {'max_depth': 10, 'max_features': 10, 'max_leaf_nodes': 30, 'min_samples_split': 30}\n",
      "0.9211193183920064 {'max_depth': 10, 'max_features': 30, 'max_leaf_nodes': 3, 'min_samples_split': 3}\n",
      "0.9211193183920064 {'max_depth': 10, 'max_features': 30, 'max_leaf_nodes': 3, 'min_samples_split': 10}\n",
      "0.9211193183920064 {'max_depth': 10, 'max_features': 30, 'max_leaf_nodes': 3, 'min_samples_split': 30}\n",
      "0.9248596933727234 {'max_depth': 10, 'max_features': 30, 'max_leaf_nodes': 10, 'min_samples_split': 3}\n",
      "0.9248596933727234 {'max_depth': 10, 'max_features': 30, 'max_leaf_nodes': 10, 'min_samples_split': 10}\n",
      "0.9248596933727234 {'max_depth': 10, 'max_features': 30, 'max_leaf_nodes': 10, 'min_samples_split': 30}\n",
      "0.9235672272333988 {'max_depth': 10, 'max_features': 30, 'max_leaf_nodes': 30, 'min_samples_split': 3}\n",
      "0.9227044501042231 {'max_depth': 10, 'max_features': 30, 'max_leaf_nodes': 30, 'min_samples_split': 10}\n",
      "0.9234239956546261 {'max_depth': 10, 'max_features': 30, 'max_leaf_nodes': 30, 'min_samples_split': 30}\n",
      "0.857092239201155 {'max_depth': 20, 'max_features': 3, 'max_leaf_nodes': 3, 'min_samples_split': 3}\n",
      "0.857092239201155 {'max_depth': 20, 'max_features': 3, 'max_leaf_nodes': 3, 'min_samples_split': 10}\n",
      "0.857092239201155 {'max_depth': 20, 'max_features': 3, 'max_leaf_nodes': 3, 'min_samples_split': 30}\n",
      "0.8810622514261314 {'max_depth': 20, 'max_features': 3, 'max_leaf_nodes': 10, 'min_samples_split': 3}\n",
      "0.8810622514261314 {'max_depth': 20, 'max_features': 3, 'max_leaf_nodes': 10, 'min_samples_split': 10}\n",
      "0.8794048663754337 {'max_depth': 20, 'max_features': 3, 'max_leaf_nodes': 10, 'min_samples_split': 30}\n",
      "0.8863200985105113 {'max_depth': 20, 'max_features': 3, 'max_leaf_nodes': 30, 'min_samples_split': 3}\n",
      "0.8881166998431312 {'max_depth': 20, 'max_features': 3, 'max_leaf_nodes': 30, 'min_samples_split': 10}\n",
      "0.8861700516908346 {'max_depth': 20, 'max_features': 3, 'max_leaf_nodes': 30, 'min_samples_split': 30}\n",
      "0.8907970967982932 {'max_depth': 20, 'max_features': 10, 'max_leaf_nodes': 3, 'min_samples_split': 3}\n",
      "0.8907970967982932 {'max_depth': 20, 'max_features': 10, 'max_leaf_nodes': 3, 'min_samples_split': 10}\n",
      "0.8907970967982932 {'max_depth': 20, 'max_features': 10, 'max_leaf_nodes': 3, 'min_samples_split': 30}\n",
      "0.9011720482907086 {'max_depth': 20, 'max_features': 10, 'max_leaf_nodes': 10, 'min_samples_split': 3}\n",
      "0.9011720482907086 {'max_depth': 20, 'max_features': 10, 'max_leaf_nodes': 10, 'min_samples_split': 10}\n",
      "0.9011720482907086 {'max_depth': 20, 'max_features': 10, 'max_leaf_nodes': 10, 'min_samples_split': 30}\n",
      "0.9138902456877598 {'max_depth': 20, 'max_features': 10, 'max_leaf_nodes': 30, 'min_samples_split': 3}\n",
      "0.9149078490275948 {'max_depth': 20, 'max_features': 10, 'max_leaf_nodes': 30, 'min_samples_split': 10}\n",
      "0.9137437624147687 {'max_depth': 20, 'max_features': 10, 'max_leaf_nodes': 30, 'min_samples_split': 30}\n",
      "0.9211193183920064 {'max_depth': 20, 'max_features': 30, 'max_leaf_nodes': 3, 'min_samples_split': 3}\n",
      "0.9211193183920064 {'max_depth': 20, 'max_features': 30, 'max_leaf_nodes': 3, 'min_samples_split': 10}\n",
      "0.9211193183920064 {'max_depth': 20, 'max_features': 30, 'max_leaf_nodes': 3, 'min_samples_split': 30}\n",
      "0.9248596933727234 {'max_depth': 20, 'max_features': 30, 'max_leaf_nodes': 10, 'min_samples_split': 3}\n",
      "0.9248596933727234 {'max_depth': 20, 'max_features': 30, 'max_leaf_nodes': 10, 'min_samples_split': 10}\n",
      "0.9248596933727234 {'max_depth': 20, 'max_features': 30, 'max_leaf_nodes': 10, 'min_samples_split': 30}\n",
      "0.9235672272333988 {'max_depth': 20, 'max_features': 30, 'max_leaf_nodes': 30, 'min_samples_split': 3}\n",
      "0.9227044501042231 {'max_depth': 20, 'max_features': 30, 'max_leaf_nodes': 30, 'min_samples_split': 10}\n",
      "0.9234239956546261 {'max_depth': 20, 'max_features': 30, 'max_leaf_nodes': 30, 'min_samples_split': 30}\n"
     ]
    }
   ],
   "source": [
    "cvrs = grid_search_cv.cv_results_\n",
    "for mean_score, params in zip(cvrs['mean_test_score'], cvrs['params']):\n",
    "    print(np.sqrt(mean_score), params)"
   ]
  },
  {
   "cell_type": "markdown",
   "metadata": {},
   "source": [
    "### Comparison of DT, CV and GSCV prediction scores"
   ]
  },
  {
   "cell_type": "code",
   "execution_count": 23,
   "metadata": {},
   "outputs": [
    {
     "name": "stdout",
     "output_type": "stream",
     "text": [
      "Accuracy on training set: 0.8575\n",
      "Accuracy on test set: 0.8571\n",
      "Accuracy from fit on validation set: 0.8571\n"
     ]
    }
   ],
   "source": [
    "print(f\"Accuracy on training set: {tree_clf.score(X_train, y_train):.4f}\")\n",
    "print(f\"Accuracy on test set: {tree_clf.score(X_test, y_test):.4f}\")\n",
    "print(f\"Accuracy from fit on validation set: {bp_score:.4f}\")"
   ]
  },
  {
   "cell_type": "markdown",
   "metadata": {},
   "source": [
    "### Classification Report Comparison: DT, CV and GSCV"
   ]
  },
  {
   "cell_type": "code",
   "execution_count": 24,
   "metadata": {},
   "outputs": [
    {
     "name": "stdout",
     "output_type": "stream",
     "text": [
      "=====================  y_test -- y_predict ============\n",
      "=======================================================\n",
      "              precision    recall  f1-score   support\n",
      "\n",
      "           0       0.88      0.94      0.91      1033\n",
      "           1       0.79      0.64      0.70       374\n",
      "\n",
      "    accuracy                           0.86      1407\n",
      "   macro avg       0.83      0.79      0.80      1407\n",
      "weighted avg       0.85      0.86      0.85      1407\n",
      "\n",
      "=======================================================\n",
      "============  y_train -- y_predict | Cross-Validation ====\n",
      "=======================================================\n",
      "              precision    recall  f1-score   support\n",
      "\n",
      "           0       0.88      0.93      0.90      2766\n",
      "           1       0.76      0.66      0.71      1002\n",
      "\n",
      "    accuracy                           0.86      3768\n",
      "   macro avg       0.82      0.79      0.81      3768\n",
      "weighted avg       0.85      0.86      0.85      3768\n",
      "\n",
      "=======================================================\n",
      "===  y_test -- y_predict_best_parameters | using validation set ==\n",
      "=======================================================\n",
      "              precision    recall  f1-score   support\n",
      "\n",
      "           0       0.90      0.91      0.90      1033\n",
      "           1       0.74      0.71      0.73       374\n",
      "\n",
      "    accuracy                           0.86      1407\n",
      "   macro avg       0.82      0.81      0.81      1407\n",
      "weighted avg       0.86      0.86      0.86      1407\n",
      "\n"
     ]
    }
   ],
   "source": [
    "print(\"=====================  y_test -- y_predict ============\")\n",
    "print(\"=\"*55)\n",
    "print(classification_report(y_test, y_predict))\n",
    "print(\"=\"*55)\n",
    "print(\"============  y_train -- y_predict | Cross-Validation ====\")\n",
    "print(\"=\"*55)\n",
    "print(classification_report(y_train, y_predict_cv))\n",
    "print(\"=\"*55)\n",
    "print(\"===  y_test -- y_predict_best_parameters | using validation set ==\")\n",
    "print(\"=\"*55)\n",
    "print(classification_report(y_test, y_predict_bp))"
   ]
  },
  {
   "cell_type": "code",
   "execution_count": 25,
   "metadata": {},
   "outputs": [],
   "source": [
    "# scores = np.array(results.mean_test_score).reshape(8, 8)"
   ]
  },
  {
   "cell_type": "code",
   "execution_count": 26,
   "metadata": {},
   "outputs": [],
   "source": [
    "# sns.heatmap(scores, cmap=\"YlGnBu\", vmin=0.75, vmax=1, annot=True)"
   ]
  },
  {
   "cell_type": "code",
   "execution_count": 27,
   "metadata": {},
   "outputs": [],
   "source": [
    "# # Precision - Recall Trade-off (for SGDClassifier)\n",
    "\n",
    "# precisions, recalls, thresholds = precision_recall_curve(y_train, y_scores)\n",
    "#\n",
    "#\n",
    "# def plot_precision_recall_vs_threshold(precisions, recalls, thresholds):\n",
    "#     plt.plot(thresholds, precisions[:,-1], \"b--\", label=\"Precision\")\n",
    "#     plt.plot(thresholds, recalls[:,-1], \"g-\", label=\"Recalls\")\n",
    "#\n",
    "#\n",
    "# plot_precision_recall_vs_threshold(precisions, recalls, thresholds)\n",
    "\n",
    "\n",
    "\n",
    "# # Confusion Matrix plot\n",
    "# matrix = confusion_matrix(y_test, y_predict)\n",
    "# # create pandas dataframe\n",
    "# class_names = ['Churn_no', 'Churn_yes']\n",
    "# dataframe_Confusion = pd.DataFrame(matrix, index=class_names, columns=class_names)\n",
    "# # create heatmap\n",
    "# sns.heatmap(dataframe_Confusion, annot=True,  cmap=\"Blues\", fmt=\".0f\")\n",
    "# plt.title(\"Confusion Matrix\")\n",
    "# plt.tight_layout()\n",
    "# plt.ylabel(\"True Class\")\n",
    "# plt.xlabel(\"Predicted Class\")\n",
    "# plt.savefig('./Images/confusion_matrix.png')\n",
    "# # plt.show()\n",
    "#\n",
    "# Plot of Decision Tree\n",
    "# feature_cols = X.columns\n",
    "\n",
    "# pydotplus.graphviz.InvocationException: GraphViz's executables not found\n",
    "# works in Linux after sudo apt-get install graphviz\n",
    "# for Win10, might have to edit Environment variable ???\n",
    "# show_tree(tree_clf, feature_cols, './Images/tree.png')"
   ]
  },
  {
   "cell_type": "markdown",
   "metadata": {},
   "source": [
    "### Ensemble Learning"
   ]
  },
  {
   "cell_type": "code",
   "execution_count": 28,
   "metadata": {},
   "outputs": [
    {
     "name": "stderr",
     "output_type": "stream",
     "text": [
      "/home/alex/anaconda3/lib/python3.8/site-packages/sklearn/linear_model/_logistic.py:762: ConvergenceWarning: lbfgs failed to converge (status=1):\n",
      "STOP: TOTAL NO. of ITERATIONS REACHED LIMIT.\n",
      "\n",
      "Increase the number of iterations (max_iter) or scale the data as shown in:\n",
      "    https://scikit-learn.org/stable/modules/preprocessing.html\n",
      "Please also refer to the documentation for alternative solver options:\n",
      "    https://scikit-learn.org/stable/modules/linear_model.html#logistic-regression\n",
      "  n_iter_i = _check_optimize_result(\n"
     ]
    },
    {
     "data": {
      "text/plain": [
       "VotingClassifier(estimators=[('lr', LogisticRegression()),\n",
       "                             ('rf', RandomForestClassifier()), ('svc', SVC())])"
      ]
     },
     "execution_count": 28,
     "metadata": {},
     "output_type": "execute_result"
    }
   ],
   "source": [
    "from sklearn.ensemble import VotingClassifier\n",
    "from sklearn.linear_model import LogisticRegression\n",
    "from sklearn.ensemble import RandomForestClassifier\n",
    "from sklearn.svm import SVC\n",
    "\n",
    "log_clf = LogisticRegression()\n",
    "rnd_clf = RandomForestClassifier()\n",
    "svm_clf = SVC()\n",
    "\n",
    "voting_clf = VotingClassifier(\n",
    "    estimators=[('lr', log_clf), ('rf', rnd_clf), ('svc', svm_clf)],\n",
    "    voting='hard')\n",
    "voting_clf.fit(X_train, y_train)"
   ]
  },
  {
   "cell_type": "code",
   "execution_count": 29,
   "metadata": {},
   "outputs": [
    {
     "name": "stderr",
     "output_type": "stream",
     "text": [
      "/home/alex/anaconda3/lib/python3.8/site-packages/sklearn/linear_model/_logistic.py:762: ConvergenceWarning: lbfgs failed to converge (status=1):\n",
      "STOP: TOTAL NO. of ITERATIONS REACHED LIMIT.\n",
      "\n",
      "Increase the number of iterations (max_iter) or scale the data as shown in:\n",
      "    https://scikit-learn.org/stable/modules/preprocessing.html\n",
      "Please also refer to the documentation for alternative solver options:\n",
      "    https://scikit-learn.org/stable/modules/linear_model.html#logistic-regression\n",
      "  n_iter_i = _check_optimize_result(\n"
     ]
    },
    {
     "name": "stdout",
     "output_type": "stream",
     "text": [
      "LogisticRegression 0.8578535891968728\n",
      "RandomForestClassifier 0.8422174840085288\n",
      "SVC 0.8585643212508884\n"
     ]
    },
    {
     "name": "stderr",
     "output_type": "stream",
     "text": [
      "/home/alex/anaconda3/lib/python3.8/site-packages/sklearn/linear_model/_logistic.py:762: ConvergenceWarning: lbfgs failed to converge (status=1):\n",
      "STOP: TOTAL NO. of ITERATIONS REACHED LIMIT.\n",
      "\n",
      "Increase the number of iterations (max_iter) or scale the data as shown in:\n",
      "    https://scikit-learn.org/stable/modules/preprocessing.html\n",
      "Please also refer to the documentation for alternative solver options:\n",
      "    https://scikit-learn.org/stable/modules/linear_model.html#logistic-regression\n",
      "  n_iter_i = _check_optimize_result(\n"
     ]
    },
    {
     "name": "stdout",
     "output_type": "stream",
     "text": [
      "VotingClassifier 0.8578535891968728\n"
     ]
    }
   ],
   "source": [
    "from sklearn.metrics import accuracy_score\n",
    "\n",
    "for clf in (log_clf, rnd_clf, svm_clf, voting_clf):\n",
    "    clf.fit(X_train, y_train)\n",
    "    y_pred = clf.predict(X_test)\n",
    "    print(clf.__class__.__name__, accuracy_score(y_test, y_pred))\n"
   ]
  },
  {
   "cell_type": "markdown",
   "metadata": {},
   "source": [
    "### Bagging"
   ]
  },
  {
   "cell_type": "code",
   "execution_count": 30,
   "metadata": {},
   "outputs": [],
   "source": [
    "from sklearn.ensemble import BaggingClassifier\n",
    "\n",
    "bag_clf = BaggingClassifier(\n",
    "    DecisionTreeClassifier(), n_estimators=500,\n",
    "    max_samples=100, bootstrap=True, n_jobs=-1)\n",
    "bag_clf.fit(X_train, y_train)\n",
    "\n",
    "y_pred = bag_clf.predict(X_test)"
   ]
  },
  {
   "cell_type": "code",
   "execution_count": 31,
   "metadata": {},
   "outputs": [
    {
     "name": "stdout",
     "output_type": "stream",
     "text": [
      "              precision    recall  f1-score   support\n",
      "\n",
      "           0       0.89      0.93      0.91      1033\n",
      "           1       0.77      0.68      0.72       374\n",
      "\n",
      "    accuracy                           0.86      1407\n",
      "   macro avg       0.83      0.80      0.81      1407\n",
      "weighted avg       0.86      0.86      0.86      1407\n",
      "\n"
     ]
    }
   ],
   "source": [
    "print(classification_report(y_test, y_pred))"
   ]
  },
  {
   "cell_type": "markdown",
   "metadata": {},
   "source": [
    "### Boosting"
   ]
  },
  {
   "cell_type": "code",
   "execution_count": 32,
   "metadata": {},
   "outputs": [
    {
     "name": "stdout",
     "output_type": "stream",
     "text": [
      "Accuracy: 0.8606965174129353\n"
     ]
    }
   ],
   "source": [
    "from sklearn.ensemble import AdaBoostClassifier\n",
    "\n",
    "ada_clf = AdaBoostClassifier(\n",
    "    base_estimator=tree_clf, n_estimators=10,\n",
    "    algorithm=\"SAMME.R\", learning_rate= 1)\n",
    "# Accuracy: 0.8606965\n",
    "\n",
    "# ada_clf = AdaBoostClassifier(\n",
    "#     base_estimator=voting_clf, n_estimators=10,\n",
    "#     algorithm=\"SAMME\", learning_rate= 1)\n",
    "# # Accuracy: 0.8294243070362474\n",
    "\n",
    "# ada_clf = AdaBoostClassifier(\n",
    "#     base_estimator=bag_clf, n_estimators=10,\n",
    "#     algorithm=\"SAMME.R\", learning_rate= 1)v\n",
    "# # Accuracy: 0.8599857853589197\n",
    "\n",
    "model = ada_clf.fit(X_train, y_train)\n",
    "\n",
    "# Generate predictions for test dataset\n",
    "y_pred = model.predict(X_test)\n",
    "\n",
    "# Print accuracy of the model  \n",
    "print(\"Accuracy:\", accuracy_score(y_test, y_pred))"
   ]
  },
  {
   "cell_type": "markdown",
   "metadata": {},
   "source": [
    "### Gradient Boosting"
   ]
  },
  {
   "cell_type": "code",
   "execution_count": 33,
   "metadata": {},
   "outputs": [],
   "source": [
    "\n",
    "\n",
    "# tree_reg1 = DecisionTreeRegressor(max_depth=5)\n",
    "# tree_reg1.fit(X_train, y_train)\n",
    "\n",
    "# y2 = y - tree_reg1.predict(X)\n",
    "# tree_reg2 = DecisionTreeRegressor(max_depth=4)\n",
    "# tree_reg2.fit(X_train, y2)\n",
    "\n",
    "# y3 = y2 - tree_reg2.predict(X)\n",
    "# tree_reg3 = DecisionTreeRegressor(max_depth=2)\n",
    "# tree_reg3.fit(X_train, y3)\n",
    "\n",
    "# y_pred = sum(tree.predict(X_new) for tree in (tree_reg1, tree_reg2, tree_reg3))\n",
    "\n",
    "# y_pred.shape"
   ]
  },
  {
   "cell_type": "code",
   "execution_count": null,
   "metadata": {},
   "outputs": [],
   "source": []
  }
 ],
 "metadata": {
  "kernelspec": {
   "display_name": "Python 3",
   "language": "python",
   "name": "python3"
  },
  "language_info": {
   "codemirror_mode": {
    "name": "ipython",
    "version": 3
   },
   "file_extension": ".py",
   "mimetype": "text/x-python",
   "name": "python",
   "nbconvert_exporter": "python",
   "pygments_lexer": "ipython3",
   "version": "3.8.5"
  }
 },
 "nbformat": 4,
 "nbformat_minor": 2
}
