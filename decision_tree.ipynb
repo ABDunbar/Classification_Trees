{
 "cells": [
  {
   "cell_type": "code",
   "execution_count": 1,
   "metadata": {},
   "outputs": [],
   "source": [
    "import pandas as pd\n",
    "import numpy as np\n",
    "import matplotlib.pyplot as plt\n",
    "import seaborn as sns\n",
    "from sklearn.tree import DecisionTreeClassifier, export_graphviz\n",
    "from sklearn.model_selection import train_test_split, cross_val_predict, cross_val_score\n",
    "from sklearn.metrics import precision_score, recall_score, f1_score, precision_recall_curve\n",
    "from sklearn.metrics import roc_curve, roc_auc_score\n",
    "from sklearn.metrics import confusion_matrix, classification_report\n",
    "from Packages.data import load_csv_to_dataframe, plot_roc_curve, plot_feature_importance # show_tree,\n",
    "%matplotlib inline"
   ]
  },
  {
   "cell_type": "markdown",
   "metadata": {},
   "source": [
    "### Load data from Packages.data"
   ]
  },
  {
   "cell_type": "code",
   "execution_count": 2,
   "metadata": {},
   "outputs": [
    {
     "name": "stdout",
     "output_type": "stream",
     "text": [
      "Index(['customerID', 'gender', 'SeniorCitizen', 'Partner', 'Dependents',\n",
      "       'tenure', 'PhoneService', 'MultipleLines', 'InternetService',\n",
      "       'OnlineSecurity', 'OnlineBackup', 'DeviceProtection', 'TechSupport',\n",
      "       'StreamingTV', 'StreamingMovies', 'Contract', 'PaperlessBilling',\n",
      "       'PaymentMethod', 'MonthlyCharges', 'TotalCharges', 'Churn', 'Churn_cat',\n",
      "       'tenure_cat', 'MonthlyCharges_cat', 'TotalCharges_cat'],\n",
      "      dtype='object')\n"
     ]
    }
   ],
   "source": [
    "file = './Data/data.csv'\n",
    "df = load_csv_to_dataframe(file)\n",
    "print(df.columns)"
   ]
  },
  {
   "cell_type": "markdown",
   "metadata": {},
   "source": [
    "### Prepare dataframe for train, validation, test split\n",
    "\n",
    "* 'customerID': drop. A random string assigned to each customer.\n",
    "* 'tenure'    : drop. A categorical feature was created for this.\n",
    "* 'MonthlyCharges' : drop. A categorical feature was created for this.\n",
    "* 'TotalCharges'   : drop. A categorical feature ...\n",
    "* 'Churn'          : drop. The label is dropped from the X_train, X_test, X_valid datasets\n",
    "\n",
    "The 'X' dataframe is then one hot encoded via pandas.get_dummies()"
   ]
  },
  {
   "cell_type": "code",
   "execution_count": 3,
   "metadata": {},
   "outputs": [],
   "source": [
    "X = df.drop(['customerID', 'tenure', 'MonthlyCharges', 'TotalCharges', 'Churn', 'Churn_cat'], axis=1)\n",
    "X = pd.get_dummies(X, drop_first=True)\n",
    "y = df['Churn_cat']"
   ]
  },
  {
   "cell_type": "code",
   "execution_count": 4,
   "metadata": {},
   "outputs": [
    {
     "data": {
      "text/plain": [
       "No     0.734215\n",
       "Yes    0.265785\n",
       "Name: Churn, dtype: float64"
      ]
     },
     "execution_count": 4,
     "metadata": {},
     "output_type": "execute_result"
    }
   ],
   "source": [
    "df['Churn'].value_counts()/ len(df)"
   ]
  },
  {
   "cell_type": "markdown",
   "metadata": {},
   "source": [
    "### Split data into training, validation and test\n",
    "\n",
    "The full dataset is split into three parts (training, test, validation).  \n",
    "\n",
    "Stratified splits due to the unequal partitioning of the dataset (No: 5163 (73%), Yes: 1869 (27%))"
   ]
  },
  {
   "cell_type": "code",
   "execution_count": 5,
   "metadata": {},
   "outputs": [],
   "source": [
    "X_trainval, X_test, y_trainval, y_test = train_test_split(X, y, test_size=0.2, stratify=y, random_state=42)\n",
    "X_train, X_valid, y_train, y_valid = train_test_split(X_trainval, y_trainval, test_size=0.33,  random_state=42)"
   ]
  },
  {
   "cell_type": "code",
   "execution_count": 6,
   "metadata": {},
   "outputs": [
    {
     "name": "stdout",
     "output_type": "stream",
     "text": [
      "Dataframe: (7032, 25), X.shape: (7032, 30), y.shape: (7032,)\n",
      "training shape: (3768, 30), validiation shape: (1857, 30), testing shape: (1407, 30)\n",
      "training labels: (3768,), validation shape: (1857,), testing labels: (1407,)\n"
     ]
    }
   ],
   "source": [
    "print(f\"Dataframe: {df.shape}, X.shape: {X.shape}, y.shape: {y.shape}\")\n",
    "print(f\"training shape: {X_train.shape}, validiation shape: {X_valid.shape}, testing shape: {X_test.shape}\")\n",
    "print(f\"training labels: {y_train.shape}, validation shape: {y_valid.shape}, testing labels: {y_test.shape}\")"
   ]
  },
  {
   "cell_type": "markdown",
   "metadata": {},
   "source": [
    "### Create DecisionTreeClassifier, fit and predict\n",
    "\n",
    "The assignment is to compare a Decision Tree classifier with Random Forest"
   ]
  },
  {
   "cell_type": "code",
   "execution_count": 7,
   "metadata": {},
   "outputs": [],
   "source": [
    "# From the future....\n",
    "# Best params: {'max_depth': 5, 'max_features': 30, 'max_leaf_nodes': 10, 'min_samples_split': 3}\n",
    "tree_clf = DecisionTreeClassifier(max_depth=5, max_features=30, max_leaf_nodes=10, min_samples_split=3)  \n",
    "tree_clf.fit(X_train, y_train)\n",
    "y_predict = tree_clf.predict(X_test)"
   ]
  },
  {
   "cell_type": "code",
   "execution_count": 8,
   "metadata": {},
   "outputs": [
    {
     "name": "stdout",
     "output_type": "stream",
     "text": [
      "Accuracy on training set: 0.8575\n",
      "Accuracy on test set:     0.8571\n"
     ]
    }
   ],
   "source": [
    "print(f\"Accuracy on training set: {tree_clf.score(X_train, y_train):.4f}\")\n",
    "print(f\"Accuracy on test set:     {tree_clf.score(X_test, y_test):.4f}\")"
   ]
  },
  {
   "cell_type": "code",
   "execution_count": 9,
   "metadata": {},
   "outputs": [
    {
     "data": {
      "text/plain": [
       "4"
      ]
     },
     "execution_count": 9,
     "metadata": {},
     "output_type": "execute_result"
    }
   ],
   "source": [
    "tree_clf.tree_.max_depth"
   ]
  },
  {
   "cell_type": "markdown",
   "metadata": {},
   "source": [
    "### Accuracy of train / test\n",
    "\n",
    "Accuracy reports how many correct out of total.  This can be misleading if the dataset is very highly skewed.  In this case predictions of only 1 (no churn) will score above 70%!"
   ]
  },
  {
   "cell_type": "code",
   "execution_count": 10,
   "metadata": {},
   "outputs": [
    {
     "data": {
      "text/plain": [
       "array([0.75      , 0.73407643, 0.71815287])"
      ]
     },
     "execution_count": 10,
     "metadata": {},
     "output_type": "execute_result"
    }
   ],
   "source": [
    "from sklearn.base import BaseEstimator\n",
    "class NeverChurnClassifier(BaseEstimator):\n",
    "    def fit(self, X, y=None):\n",
    "        return self\n",
    "    def predict(self, X):\n",
    "        return np.zeros((len(X), 1), dtype=bool)\n",
    "    \n",
    "never_churn_clf = NeverChurnClassifier()\n",
    "cross_val_score(never_churn_clf, X_train, y_train, cv=3, scoring='accuracy')"
   ]
  },
  {
   "cell_type": "markdown",
   "metadata": {},
   "source": [
    "### Cross-Validation\n",
    "\n",
    "Cross-Validation predictions based on default DecisionTreeClassifer() (tree_clf)"
   ]
  },
  {
   "cell_type": "code",
   "execution_count": 11,
   "metadata": {},
   "outputs": [],
   "source": [
    "y_predict_cv = cross_val_predict(tree_clf, X_train, y_train, cv=5)"
   ]
  },
  {
   "cell_type": "markdown",
   "metadata": {},
   "source": [
    "### Confusion matrix results for predict and cross-val predict"
   ]
  },
  {
   "cell_type": "code",
   "execution_count": 12,
   "metadata": {},
   "outputs": [
    {
     "name": "stdout",
     "output_type": "stream",
     "text": [
      "[[968  65]\n",
      " [136 238]]\n",
      "[[2561  205]\n",
      " [ 340  662]]\n"
     ]
    }
   ],
   "source": [
    "# Confusion Matrix results\n",
    "print(confusion_matrix(y_test, y_predict))\n",
    "print(confusion_matrix(y_train, y_predict_cv))"
   ]
  },
  {
   "cell_type": "markdown",
   "metadata": {},
   "source": [
    "### Classification Report\n",
    "\n",
    "Classification report for a 'straight' Decision Tree classifier and one for a Cross-Validation (5-fold)."
   ]
  },
  {
   "cell_type": "code",
   "execution_count": 13,
   "metadata": {},
   "outputs": [
    {
     "name": "stdout",
     "output_type": "stream",
     "text": [
      "              precision    recall  f1-score   support\n",
      "\n",
      "           0       0.88      0.94      0.91      1033\n",
      "           1       0.79      0.64      0.70       374\n",
      "\n",
      "    accuracy                           0.86      1407\n",
      "   macro avg       0.83      0.79      0.80      1407\n",
      "weighted avg       0.85      0.86      0.85      1407\n",
      "\n",
      "              precision    recall  f1-score   support\n",
      "\n",
      "           0       0.88      0.93      0.90      2766\n",
      "           1       0.76      0.66      0.71      1002\n",
      "\n",
      "    accuracy                           0.86      3768\n",
      "   macro avg       0.82      0.79      0.81      3768\n",
      "weighted avg       0.85      0.86      0.85      3768\n",
      "\n"
     ]
    }
   ],
   "source": [
    "print(classification_report(y_test, y_predict))\n",
    "print(classification_report(y_train, y_predict_cv))"
   ]
  },
  {
   "cell_type": "code",
   "execution_count": 14,
   "metadata": {},
   "outputs": [
    {
     "name": "stdout",
     "output_type": "stream",
     "text": [
      "Precision, Recall, F1 scores for Churn=yes\n",
      "==========================================\n",
      "Precision: 0.7855\n",
      "Recall: 0.6364\n",
      "F1: 0.7031\n",
      "********Cross-Validation ********\n",
      "Precision (cv): 0.7636\n",
      "Recall (cv): 0.6607\n",
      "F1 (cv): 0.7084\n"
     ]
    }
   ],
   "source": [
    "# Precision, Recall and F1 Scores\n",
    "print(\"Precision, Recall, F1 scores for Churn=yes\")\n",
    "print(\"=\"*42)\n",
    "print(f\"Precision: {precision_score(y_test, y_predict):.4f}\")\n",
    "print(f\"Recall: {recall_score(y_test, y_predict):.4f}\")\n",
    "print(f\"F1: {f1_score(y_test, y_predict):.4f}\")\n",
    "print('*'*8 + \"Cross-Validation \"+'*'*8)\n",
    "print(f\"Precision (cv): {precision_score(y_train, y_predict_cv):.4f}\")\n",
    "print(f\"Recall (cv): {recall_score(y_train, y_predict_cv):.4f}\")\n",
    "print(f\"F1 (cv): {f1_score(y_train, y_predict_cv):.4f}\")"
   ]
  },
  {
   "cell_type": "markdown",
   "metadata": {},
   "source": [
    "### ROC Curve"
   ]
  },
  {
   "cell_type": "code",
   "execution_count": 15,
   "metadata": {},
   "outputs": [],
   "source": [
    "# Compute y scores for input to metrics\n",
    "y_probas = cross_val_predict(tree_clf, X_train, y_train, cv=5, method='predict_proba')  # method='decision_function'\n",
    "y_scores = y_probas[:, 1]"
   ]
  },
  {
   "cell_type": "code",
   "execution_count": 16,
   "metadata": {},
   "outputs": [
    {
     "data": {
      "image/png": "[encoded data removed]",
      "text/plain": [
       "<Figure size 432x288 with 1 Axes>"
      ]
     },
     "metadata": {
      "needs_background": "light"
     },
     "output_type": "display_data"
    }
   ],
   "source": [
    "fpr, tpr, thresholds = roc_curve(y_train, y_scores)\n",
    "plot_roc_curve(fpr, tpr)"
   ]
  },
  {
   "cell_type": "markdown",
   "metadata": {},
   "source": [
    "### ROC AUC\n",
    "\n",
    "The Area Under Curve (AUC) returns ..."
   ]
  },
  {
   "cell_type": "code",
   "execution_count": 17,
   "metadata": {},
   "outputs": [
    {
     "name": "stdout",
     "output_type": "stream",
     "text": [
      "ROC AUC: 0.8831\n"
     ]
    }
   ],
   "source": [
    "# ROC AUC Curve\n",
    "print(f\"ROC AUC: {roc_auc_score(y_train, y_scores):.4f}\")"
   ]
  },
  {
   "cell_type": "markdown",
   "metadata": {},
   "source": [
    "### Feature Importance"
   ]
  },
  {
   "cell_type": "code",
   "execution_count": 18,
   "metadata": {},
   "outputs": [
    {
     "data": {
      "image/png": "[encoded data removed]",
      "text/plain": [
       "<Figure size 864x576 with 1 Axes>"
      ]
     },
     "metadata": {
      "needs_background": "light"
     },
     "output_type": "display_data"
    }
   ],
   "source": [
    "# print(f\"Feature importances:\\n{tree_clf.feature_importances_}\")\n",
    "\n",
    "plot_feature_importance(X, tree_clf)"
   ]
  },
  {
   "cell_type": "markdown",
   "metadata": {},
   "source": [
    "## Grid Search CV\n",
    "\n",
    "Consider exploring the following parameters...\n",
    "\n",
    "* 'criterion' : ['gini', 'entropy']\n",
    "* 'max_depth' :\n",
    "* 'min_samples_split' :\n",
    "* 'min_samples_leaf' :\n",
    "* 'max_features' :\n",
    "* 'max_leaf_nodes' :"
   ]
  },
  {
   "cell_type": "code",
   "execution_count": 19,
   "metadata": {},
   "outputs": [
    {
     "name": "stdout",
     "output_type": "stream",
     "text": [
      "Fitting 5 folds for each of 108 candidates, totalling 540 fits\n"
     ]
    },
    {
     "name": "stderr",
     "output_type": "stream",
     "text": [
      "[Parallel(n_jobs=1)]: Using backend SequentialBackend with 1 concurrent workers.\n",
      "[Parallel(n_jobs=1)]: Done 540 out of 540 | elapsed:    2.1s finished\n"
     ]
    },
    {
     "data": {
      "text/plain": [
       "GridSearchCV(cv=5, error_score='raise-deprecating',\n",
       "             estimator=DecisionTreeClassifier(class_weight=None,\n",
       "                                              criterion='gini', max_depth=None,\n",
       "                                              max_features=None,\n",
       "                                              max_leaf_nodes=None,\n",
       "                                              min_impurity_decrease=0.0,\n",
       "                                              min_impurity_split=None,\n",
       "                                              min_samples_leaf=1,\n",
       "                                              min_samples_split=2,\n",
       "                                              min_weight_fraction_leaf=0.0,\n",
       "                                              presort=False, random_state=42,\n",
       "                                              splitter='best'),\n",
       "             iid='warn', n_jobs=None,\n",
       "             param_grid={'max_depth': [2, 5, 10, 20],\n",
       "                         'max_features': [3, 10, 30],\n",
       "                         'max_leaf_nodes': [3, 10, 30],\n",
       "                         'min_samples_split': [3, 10, 30]},\n",
       "             pre_dispatch='2*n_jobs', refit=True, return_train_score=False,\n",
       "             scoring=None, verbose=1)"
      ]
     },
     "execution_count": 19,
     "metadata": {},
     "output_type": "execute_result"
    }
   ],
   "source": [
    "# Grid Search CV\n",
    "from sklearn.model_selection import GridSearchCV\n",
    "params = {'max_depth' : [2, 5, 10, 20],\n",
    "          'min_samples_split': [3, 10, 30],\n",
    "          'max_leaf_nodes': [3, 10, 30],\n",
    "          'max_features': [3, 10, 30]}\n",
    "# \n",
    "grid_search_cv = GridSearchCV(DecisionTreeClassifier(random_state=42), params, verbose=1, cv=5)\n",
    "grid_search_cv.fit(X_train, y_train)"
   ]
  },
  {
   "cell_type": "markdown",
   "metadata": {},
   "source": [
    "### Grid Search CV: best score, best parameters"
   ]
  },
  {
   "cell_type": "code",
   "execution_count": 20,
   "metadata": {},
   "outputs": [
    {
     "name": "stdout",
     "output_type": "stream",
     "text": [
      "Grid search CV, best estimator: DecisionTreeClassifier(class_weight=None, criterion='gini', max_depth=5,\n",
      "                       max_features=30, max_leaf_nodes=10,\n",
      "                       min_impurity_decrease=0.0, min_impurity_split=None,\n",
      "                       min_samples_leaf=1, min_samples_split=3,\n",
      "                       min_weight_fraction_leaf=0.0, presort=False,\n",
      "                       random_state=42, splitter='best')\n",
      "Best score: {'max_depth': 5, 'max_features': 30, 'max_leaf_nodes': 10, 'min_samples_split': 3}\n",
      "Best params: {'max_depth': 5, 'max_features': 30, 'max_leaf_nodes': 10, 'min_samples_split': 3}\n",
      "Best index: 48\n"
     ]
    }
   ],
   "source": [
    "print(f\"Grid search CV, best estimator: {grid_search_cv.best_estimator_}\")\n",
    "print(f\"Best score: {grid_search_cv.best_params_}\")\n",
    "print(f\"Best params: {grid_search_cv.best_params_}\")\n",
    "print(f\"Best index: {grid_search_cv.best_index_}\")"
   ]
  },
  {
   "cell_type": "markdown",
   "metadata": {},
   "source": [
    "### Grid Search CV: best parameters for Validation"
   ]
  },
  {
   "cell_type": "code",
   "execution_count": 21,
   "metadata": {},
   "outputs": [],
   "source": [
    "# find best parameters from fit on X_train, y_train\n",
    "best_params = grid_search_cv.best_params_\n",
    "# Instantiate Decision Tree Classifier from those best parameters\n",
    "tree_clf_bp = DecisionTreeClassifier(**best_params)\n",
    "# Fit Classifier on Validation set\n",
    "tree_clf_bp.fit(X_valid, y_valid)\n",
    "# check on test set\n",
    "bp_score = tree_clf_bp.score(X_test, y_test)"
   ]
  },
  {
   "cell_type": "code",
   "execution_count": 22,
   "metadata": {},
   "outputs": [
    {
     "name": "stdout",
     "output_type": "stream",
     "text": [
      "(108, 17)\n"
     ]
    },
    {
     "data": {
      "text/html": [
       "<div>\n",
       "<style scoped>\n",
       "    .dataframe tbody tr th:only-of-type {\n",
       "        vertical-align: middle;\n",
       "    }\n",
       "\n",
       "    .dataframe tbody tr th {\n",
       "        vertical-align: top;\n",
       "    }\n",
       "\n",
       "    .dataframe thead th {\n",
       "        text-align: right;\n",
       "    }\n",
       "</style>\n",
       "<table border=\"1\" class=\"dataframe\">\n",
       "  <thead>\n",
       "    <tr style=\"text-align: right;\">\n",
       "      <th></th>\n",
       "      <th>mean_fit_time</th>\n",
       "      <th>std_fit_time</th>\n",
       "      <th>mean_score_time</th>\n",
       "      <th>std_score_time</th>\n",
       "      <th>param_max_depth</th>\n",
       "      <th>param_max_features</th>\n",
       "      <th>param_max_leaf_nodes</th>\n",
       "      <th>param_min_samples_split</th>\n",
       "      <th>params</th>\n",
       "      <th>split0_test_score</th>\n",
       "      <th>split1_test_score</th>\n",
       "      <th>split2_test_score</th>\n",
       "      <th>split3_test_score</th>\n",
       "      <th>split4_test_score</th>\n",
       "      <th>mean_test_score</th>\n",
       "      <th>std_test_score</th>\n",
       "      <th>rank_test_score</th>\n",
       "    </tr>\n",
       "  </thead>\n",
       "  <tbody>\n",
       "    <tr>\n",
       "      <td>0</td>\n",
       "      <td>0.002194</td>\n",
       "      <td>3.991610e-04</td>\n",
       "      <td>0.000998</td>\n",
       "      <td>4.422006e-07</td>\n",
       "      <td>2</td>\n",
       "      <td>3</td>\n",
       "      <td>3</td>\n",
       "      <td>3</td>\n",
       "      <td>{'max_depth': 2, 'max_features': 3, 'max_leaf_...</td>\n",
       "      <td>0.733775</td>\n",
       "      <td>0.733422</td>\n",
       "      <td>0.737052</td>\n",
       "      <td>0.734396</td>\n",
       "      <td>0.734396</td>\n",
       "      <td>0.734607</td>\n",
       "      <td>0.001278</td>\n",
       "      <td>97</td>\n",
       "    </tr>\n",
       "    <tr>\n",
       "      <td>1</td>\n",
       "      <td>0.008577</td>\n",
       "      <td>1.267190e-02</td>\n",
       "      <td>0.000998</td>\n",
       "      <td>1.907349e-07</td>\n",
       "      <td>2</td>\n",
       "      <td>3</td>\n",
       "      <td>3</td>\n",
       "      <td>10</td>\n",
       "      <td>{'max_depth': 2, 'max_features': 3, 'max_leaf_...</td>\n",
       "      <td>0.733775</td>\n",
       "      <td>0.733422</td>\n",
       "      <td>0.737052</td>\n",
       "      <td>0.734396</td>\n",
       "      <td>0.734396</td>\n",
       "      <td>0.734607</td>\n",
       "      <td>0.001278</td>\n",
       "      <td>97</td>\n",
       "    </tr>\n",
       "    <tr>\n",
       "      <td>2</td>\n",
       "      <td>0.001995</td>\n",
       "      <td>5.560829e-07</td>\n",
       "      <td>0.000599</td>\n",
       "      <td>4.886945e-04</td>\n",
       "      <td>2</td>\n",
       "      <td>3</td>\n",
       "      <td>3</td>\n",
       "      <td>30</td>\n",
       "      <td>{'max_depth': 2, 'max_features': 3, 'max_leaf_...</td>\n",
       "      <td>0.733775</td>\n",
       "      <td>0.733422</td>\n",
       "      <td>0.737052</td>\n",
       "      <td>0.734396</td>\n",
       "      <td>0.734396</td>\n",
       "      <td>0.734607</td>\n",
       "      <td>0.001278</td>\n",
       "      <td>97</td>\n",
       "    </tr>\n",
       "    <tr>\n",
       "      <td>3</td>\n",
       "      <td>0.001995</td>\n",
       "      <td>2.431402e-07</td>\n",
       "      <td>0.000798</td>\n",
       "      <td>3.988267e-04</td>\n",
       "      <td>2</td>\n",
       "      <td>3</td>\n",
       "      <td>10</td>\n",
       "      <td>3</td>\n",
       "      <td>{'max_depth': 2, 'max_features': 3, 'max_leaf_...</td>\n",
       "      <td>0.745695</td>\n",
       "      <td>0.751989</td>\n",
       "      <td>0.737052</td>\n",
       "      <td>0.763612</td>\n",
       "      <td>0.742364</td>\n",
       "      <td>0.748142</td>\n",
       "      <td>0.009124</td>\n",
       "      <td>91</td>\n",
       "    </tr>\n",
       "    <tr>\n",
       "      <td>4</td>\n",
       "      <td>0.002195</td>\n",
       "      <td>3.990414e-04</td>\n",
       "      <td>0.000399</td>\n",
       "      <td>4.883440e-04</td>\n",
       "      <td>2</td>\n",
       "      <td>3</td>\n",
       "      <td>10</td>\n",
       "      <td>10</td>\n",
       "      <td>{'max_depth': 2, 'max_features': 3, 'max_leaf_...</td>\n",
       "      <td>0.745695</td>\n",
       "      <td>0.751989</td>\n",
       "      <td>0.737052</td>\n",
       "      <td>0.763612</td>\n",
       "      <td>0.742364</td>\n",
       "      <td>0.748142</td>\n",
       "      <td>0.009124</td>\n",
       "      <td>91</td>\n",
       "    </tr>\n",
       "  </tbody>\n",
       "</table>\n",
       "</div>"
      ],
      "text/plain": [
       "   mean_fit_time  std_fit_time  mean_score_time  std_score_time  \\\n",
       "0       0.002194  3.991610e-04         0.000998    4.422006e-07   \n",
       "1       0.008577  1.267190e-02         0.000998    1.907349e-07   \n",
       "2       0.001995  5.560829e-07         0.000599    4.886945e-04   \n",
       "3       0.001995  2.431402e-07         0.000798    3.988267e-04   \n",
       "4       0.002195  3.990414e-04         0.000399    4.883440e-04   \n",
       "\n",
       "  param_max_depth param_max_features param_max_leaf_nodes  \\\n",
       "0               2                  3                    3   \n",
       "1               2                  3                    3   \n",
       "2               2                  3                    3   \n",
       "3               2                  3                   10   \n",
       "4               2                  3                   10   \n",
       "\n",
       "  param_min_samples_split                                             params  \\\n",
       "0                       3  {'max_depth': 2, 'max_features': 3, 'max_leaf_...   \n",
       "1                      10  {'max_depth': 2, 'max_features': 3, 'max_leaf_...   \n",
       "2                      30  {'max_depth': 2, 'max_features': 3, 'max_leaf_...   \n",
       "3                       3  {'max_depth': 2, 'max_features': 3, 'max_leaf_...   \n",
       "4                      10  {'max_depth': 2, 'max_features': 3, 'max_leaf_...   \n",
       "\n",
       "   split0_test_score  split1_test_score  split2_test_score  split3_test_score  \\\n",
       "0           0.733775           0.733422           0.737052           0.734396   \n",
       "1           0.733775           0.733422           0.737052           0.734396   \n",
       "2           0.733775           0.733422           0.737052           0.734396   \n",
       "3           0.745695           0.751989           0.737052           0.763612   \n",
       "4           0.745695           0.751989           0.737052           0.763612   \n",
       "\n",
       "   split4_test_score  mean_test_score  std_test_score  rank_test_score  \n",
       "0           0.734396         0.734607        0.001278               97  \n",
       "1           0.734396         0.734607        0.001278               97  \n",
       "2           0.734396         0.734607        0.001278               97  \n",
       "3           0.742364         0.748142        0.009124               91  \n",
       "4           0.742364         0.748142        0.009124               91  "
      ]
     },
     "execution_count": 22,
     "metadata": {},
     "output_type": "execute_result"
    }
   ],
   "source": [
    "y_predict_bp = tree_clf_bp.predict(X_test)\n",
    "#y_predict_bp.shape\n",
    "\n",
    "results = pd.DataFrame(grid_search_cv.cv_results_)\n",
    "print(results.shape)\n",
    "results.head()"
   ]
  },
  {
   "cell_type": "code",
   "execution_count": 23,
   "metadata": {},
   "outputs": [
    {
     "name": "stdout",
     "output_type": "stream",
     "text": [
      "0.8570923046461517 {'max_depth': 2, 'max_features': 3, 'max_leaf_nodes': 3, 'min_samples_split': 3}\n",
      "0.8570923046461517 {'max_depth': 2, 'max_features': 3, 'max_leaf_nodes': 3, 'min_samples_split': 10}\n",
      "0.8570923046461517 {'max_depth': 2, 'max_features': 3, 'max_leaf_nodes': 3, 'min_samples_split': 30}\n",
      "0.864952166614308 {'max_depth': 2, 'max_features': 3, 'max_leaf_nodes': 10, 'min_samples_split': 3}\n",
      "0.864952166614308 {'max_depth': 2, 'max_features': 3, 'max_leaf_nodes': 10, 'min_samples_split': 10}\n",
      "0.864952166614308 {'max_depth': 2, 'max_features': 3, 'max_leaf_nodes': 10, 'min_samples_split': 30}\n",
      "0.864952166614308 {'max_depth': 2, 'max_features': 3, 'max_leaf_nodes': 30, 'min_samples_split': 3}\n",
      "0.864952166614308 {'max_depth': 2, 'max_features': 3, 'max_leaf_nodes': 30, 'min_samples_split': 10}\n",
      "0.864952166614308 {'max_depth': 2, 'max_features': 3, 'max_leaf_nodes': 30, 'min_samples_split': 30}\n",
      "0.890799874346579 {'max_depth': 2, 'max_features': 10, 'max_leaf_nodes': 3, 'min_samples_split': 3}\n",
      "0.890799874346579 {'max_depth': 2, 'max_features': 10, 'max_leaf_nodes': 3, 'min_samples_split': 10}\n",
      "0.890799874346579 {'max_depth': 2, 'max_features': 10, 'max_leaf_nodes': 3, 'min_samples_split': 30}\n",
      "0.8930315267982571 {'max_depth': 2, 'max_features': 10, 'max_leaf_nodes': 10, 'min_samples_split': 3}\n",
      "0.8930315267982571 {'max_depth': 2, 'max_features': 10, 'max_leaf_nodes': 10, 'min_samples_split': 10}\n",
      "0.8930315267982571 {'max_depth': 2, 'max_features': 10, 'max_leaf_nodes': 10, 'min_samples_split': 30}\n",
      "0.8930315267982571 {'max_depth': 2, 'max_features': 10, 'max_leaf_nodes': 30, 'min_samples_split': 3}\n",
      "0.8930315267982571 {'max_depth': 2, 'max_features': 10, 'max_leaf_nodes': 30, 'min_samples_split': 10}\n",
      "0.8930315267982571 {'max_depth': 2, 'max_features': 10, 'max_leaf_nodes': 30, 'min_samples_split': 30}\n",
      "0.9211192766783057 {'max_depth': 2, 'max_features': 30, 'max_leaf_nodes': 3, 'min_samples_split': 3}\n",
      "0.9211192766783057 {'max_depth': 2, 'max_features': 30, 'max_leaf_nodes': 3, 'min_samples_split': 10}\n",
      "0.9211192766783057 {'max_depth': 2, 'max_features': 30, 'max_leaf_nodes': 3, 'min_samples_split': 30}\n",
      "0.9211192766783057 {'max_depth': 2, 'max_features': 30, 'max_leaf_nodes': 10, 'min_samples_split': 3}\n",
      "0.9211192766783057 {'max_depth': 2, 'max_features': 30, 'max_leaf_nodes': 10, 'min_samples_split': 10}\n",
      "0.9211192766783057 {'max_depth': 2, 'max_features': 30, 'max_leaf_nodes': 10, 'min_samples_split': 30}\n",
      "0.9211192766783057 {'max_depth': 2, 'max_features': 30, 'max_leaf_nodes': 30, 'min_samples_split': 3}\n",
      "0.9211192766783057 {'max_depth': 2, 'max_features': 30, 'max_leaf_nodes': 30, 'min_samples_split': 10}\n",
      "0.9211192766783057 {'max_depth': 2, 'max_features': 30, 'max_leaf_nodes': 30, 'min_samples_split': 30}\n",
      "0.8570923046461517 {'max_depth': 5, 'max_features': 3, 'max_leaf_nodes': 3, 'min_samples_split': 3}\n",
      "0.8570923046461517 {'max_depth': 5, 'max_features': 3, 'max_leaf_nodes': 3, 'min_samples_split': 10}\n",
      "0.8570923046461517 {'max_depth': 5, 'max_features': 3, 'max_leaf_nodes': 3, 'min_samples_split': 30}\n",
      "0.8804614212020042 {'max_depth': 5, 'max_features': 3, 'max_leaf_nodes': 10, 'min_samples_split': 3}\n",
      "0.8804614212020042 {'max_depth': 5, 'max_features': 3, 'max_leaf_nodes': 10, 'min_samples_split': 10}\n",
      "0.8788020218630436 {'max_depth': 5, 'max_features': 3, 'max_leaf_nodes': 10, 'min_samples_split': 30}\n",
      "0.8894581952537365 {'max_depth': 5, 'max_features': 3, 'max_leaf_nodes': 30, 'min_samples_split': 3}\n",
      "0.8909488250832353 {'max_depth': 5, 'max_features': 3, 'max_leaf_nodes': 30, 'min_samples_split': 10}\n",
      "0.8909488250832353 {'max_depth': 5, 'max_features': 3, 'max_leaf_nodes': 30, 'min_samples_split': 30}\n",
      "0.890799874346579 {'max_depth': 5, 'max_features': 10, 'max_leaf_nodes': 3, 'min_samples_split': 3}\n",
      "0.890799874346579 {'max_depth': 5, 'max_features': 10, 'max_leaf_nodes': 3, 'min_samples_split': 10}\n",
      "0.890799874346579 {'max_depth': 5, 'max_features': 10, 'max_leaf_nodes': 3, 'min_samples_split': 30}\n",
      "0.9008724245226917 {'max_depth': 5, 'max_features': 10, 'max_leaf_nodes': 10, 'min_samples_split': 3}\n",
      "0.9008724245226917 {'max_depth': 5, 'max_features': 10, 'max_leaf_nodes': 10, 'min_samples_split': 10}\n",
      "0.9008724245226917 {'max_depth': 5, 'max_features': 10, 'max_leaf_nodes': 10, 'min_samples_split': 30}\n",
      "0.9073303740332471 {'max_depth': 5, 'max_features': 10, 'max_leaf_nodes': 30, 'min_samples_split': 3}\n",
      "0.9073303740332471 {'max_depth': 5, 'max_features': 10, 'max_leaf_nodes': 30, 'min_samples_split': 10}\n",
      "0.9076228254103931 {'max_depth': 5, 'max_features': 10, 'max_leaf_nodes': 30, 'min_samples_split': 30}\n",
      "0.9211192766783057 {'max_depth': 5, 'max_features': 30, 'max_leaf_nodes': 3, 'min_samples_split': 3}\n",
      "0.9211192766783057 {'max_depth': 5, 'max_features': 30, 'max_leaf_nodes': 3, 'min_samples_split': 10}\n",
      "0.9211192766783057 {'max_depth': 5, 'max_features': 30, 'max_leaf_nodes': 3, 'min_samples_split': 30}\n",
      "0.9248572507055293 {'max_depth': 5, 'max_features': 30, 'max_leaf_nodes': 10, 'min_samples_split': 3}\n",
      "0.9248572507055293 {'max_depth': 5, 'max_features': 30, 'max_leaf_nodes': 10, 'min_samples_split': 10}\n",
      "0.9248572507055293 {'max_depth': 5, 'max_features': 30, 'max_leaf_nodes': 10, 'min_samples_split': 30}\n",
      "0.9231339127162397 {'max_depth': 5, 'max_features': 30, 'max_leaf_nodes': 30, 'min_samples_split': 3}\n",
      "0.9231339127162397 {'max_depth': 5, 'max_features': 30, 'max_leaf_nodes': 30, 'min_samples_split': 10}\n",
      "0.9239959834840691 {'max_depth': 5, 'max_features': 30, 'max_leaf_nodes': 30, 'min_samples_split': 30}\n",
      "0.8570923046461517 {'max_depth': 10, 'max_features': 3, 'max_leaf_nodes': 3, 'min_samples_split': 3}\n",
      "0.8570923046461517 {'max_depth': 10, 'max_features': 3, 'max_leaf_nodes': 3, 'min_samples_split': 10}\n",
      "0.8570923046461517 {'max_depth': 10, 'max_features': 3, 'max_leaf_nodes': 3, 'min_samples_split': 30}\n",
      "0.8812146606427034 {'max_depth': 10, 'max_features': 3, 'max_leaf_nodes': 10, 'min_samples_split': 3}\n",
      "0.8812146606427034 {'max_depth': 10, 'max_features': 3, 'max_leaf_nodes': 10, 'min_samples_split': 10}\n",
      "0.8795566823901431 {'max_depth': 10, 'max_features': 3, 'max_leaf_nodes': 10, 'min_samples_split': 30}\n",
      "0.8860202295285124 {'max_depth': 10, 'max_features': 3, 'max_leaf_nodes': 30, 'min_samples_split': 3}\n",
      "0.8882638903239866 {'max_depth': 10, 'max_features': 3, 'max_leaf_nodes': 30, 'min_samples_split': 10}\n",
      "0.8863197124606846 {'max_depth': 10, 'max_features': 3, 'max_leaf_nodes': 30, 'min_samples_split': 30}\n",
      "0.890799874346579 {'max_depth': 10, 'max_features': 10, 'max_leaf_nodes': 3, 'min_samples_split': 3}\n",
      "0.890799874346579 {'max_depth': 10, 'max_features': 10, 'max_leaf_nodes': 3, 'min_samples_split': 10}\n",
      "0.890799874346579 {'max_depth': 10, 'max_features': 10, 'max_leaf_nodes': 3, 'min_samples_split': 30}\n",
      "0.9011669716695266 {'max_depth': 10, 'max_features': 10, 'max_leaf_nodes': 10, 'min_samples_split': 3}\n",
      "0.9011669716695266 {'max_depth': 10, 'max_features': 10, 'max_leaf_nodes': 10, 'min_samples_split': 10}\n",
      "0.9011669716695266 {'max_depth': 10, 'max_features': 10, 'max_leaf_nodes': 10, 'min_samples_split': 30}\n",
      "0.9134521905708031 {'max_depth': 10, 'max_features': 10, 'max_leaf_nodes': 30, 'min_samples_split': 3}\n",
      "0.914468508986402 {'max_depth': 10, 'max_features': 10, 'max_leaf_nodes': 30, 'min_samples_split': 10}\n",
      "0.9134521905708031 {'max_depth': 10, 'max_features': 10, 'max_leaf_nodes': 30, 'min_samples_split': 30}\n",
      "0.9211192766783057 {'max_depth': 10, 'max_features': 30, 'max_leaf_nodes': 3, 'min_samples_split': 3}\n",
      "0.9211192766783057 {'max_depth': 10, 'max_features': 30, 'max_leaf_nodes': 3, 'min_samples_split': 10}\n",
      "0.9211192766783057 {'max_depth': 10, 'max_features': 30, 'max_leaf_nodes': 3, 'min_samples_split': 30}\n",
      "0.9248572507055293 {'max_depth': 10, 'max_features': 30, 'max_leaf_nodes': 10, 'min_samples_split': 3}\n",
      "0.9248572507055293 {'max_depth': 10, 'max_features': 30, 'max_leaf_nodes': 10, 'min_samples_split': 10}\n",
      "0.9248572507055293 {'max_depth': 10, 'max_features': 30, 'max_leaf_nodes': 10, 'min_samples_split': 30}\n",
      "0.9235650486840346 {'max_depth': 10, 'max_features': 30, 'max_leaf_nodes': 30, 'min_samples_split': 3}\n",
      "0.9227025752986956 {'max_depth': 10, 'max_features': 30, 'max_leaf_nodes': 30, 'min_samples_split': 10}\n",
      "0.9234213590606548 {'max_depth': 10, 'max_features': 30, 'max_leaf_nodes': 30, 'min_samples_split': 30}\n",
      "0.8570923046461517 {'max_depth': 20, 'max_features': 3, 'max_leaf_nodes': 3, 'min_samples_split': 3}\n",
      "0.8570923046461517 {'max_depth': 20, 'max_features': 3, 'max_leaf_nodes': 3, 'min_samples_split': 10}\n",
      "0.8570923046461517 {'max_depth': 20, 'max_features': 3, 'max_leaf_nodes': 3, 'min_samples_split': 30}\n",
      "0.8812146606427034 {'max_depth': 20, 'max_features': 3, 'max_leaf_nodes': 10, 'min_samples_split': 3}\n",
      "0.8812146606427034 {'max_depth': 20, 'max_features': 3, 'max_leaf_nodes': 10, 'min_samples_split': 10}\n",
      "0.8795566823901431 {'max_depth': 20, 'max_features': 3, 'max_leaf_nodes': 10, 'min_samples_split': 30}\n",
      "0.886469415985519 {'max_depth': 20, 'max_features': 3, 'max_leaf_nodes': 30, 'min_samples_split': 3}\n",
      "0.8884132662420229 {'max_depth': 20, 'max_features': 3, 'max_leaf_nodes': 30, 'min_samples_split': 10}\n",
      "0.886469415985519 {'max_depth': 20, 'max_features': 3, 'max_leaf_nodes': 30, 'min_samples_split': 30}\n",
      "0.890799874346579 {'max_depth': 20, 'max_features': 10, 'max_leaf_nodes': 3, 'min_samples_split': 3}\n",
      "0.890799874346579 {'max_depth': 20, 'max_features': 10, 'max_leaf_nodes': 3, 'min_samples_split': 10}\n",
      "0.890799874346579 {'max_depth': 20, 'max_features': 10, 'max_leaf_nodes': 3, 'min_samples_split': 30}\n",
      "0.9011669716695266 {'max_depth': 20, 'max_features': 10, 'max_leaf_nodes': 10, 'min_samples_split': 3}\n",
      "0.9011669716695266 {'max_depth': 20, 'max_features': 10, 'max_leaf_nodes': 10, 'min_samples_split': 10}\n",
      "0.9011669716695266 {'max_depth': 20, 'max_features': 10, 'max_leaf_nodes': 10, 'min_samples_split': 30}\n",
      "0.9134521905708031 {'max_depth': 20, 'max_features': 10, 'max_leaf_nodes': 30, 'min_samples_split': 3}\n",
      "0.914468508986402 {'max_depth': 20, 'max_features': 10, 'max_leaf_nodes': 30, 'min_samples_split': 10}\n",
      "0.9134521905708031 {'max_depth': 20, 'max_features': 10, 'max_leaf_nodes': 30, 'min_samples_split': 30}\n",
      "0.9211192766783057 {'max_depth': 20, 'max_features': 30, 'max_leaf_nodes': 3, 'min_samples_split': 3}\n",
      "0.9211192766783057 {'max_depth': 20, 'max_features': 30, 'max_leaf_nodes': 3, 'min_samples_split': 10}\n",
      "0.9211192766783057 {'max_depth': 20, 'max_features': 30, 'max_leaf_nodes': 3, 'min_samples_split': 30}\n",
      "0.9248572507055293 {'max_depth': 20, 'max_features': 30, 'max_leaf_nodes': 10, 'min_samples_split': 3}\n",
      "0.9248572507055293 {'max_depth': 20, 'max_features': 30, 'max_leaf_nodes': 10, 'min_samples_split': 10}\n",
      "0.9248572507055293 {'max_depth': 20, 'max_features': 30, 'max_leaf_nodes': 10, 'min_samples_split': 30}\n",
      "0.9235650486840346 {'max_depth': 20, 'max_features': 30, 'max_leaf_nodes': 30, 'min_samples_split': 3}\n",
      "0.9227025752986956 {'max_depth': 20, 'max_features': 30, 'max_leaf_nodes': 30, 'min_samples_split': 10}\n",
      "0.9234213590606548 {'max_depth': 20, 'max_features': 30, 'max_leaf_nodes': 30, 'min_samples_split': 30}\n"
     ]
    }
   ],
   "source": [
    "cvrs = grid_search_cv.cv_results_\n",
    "for mean_score, params in zip(cvrs['mean_test_score'], cvrs['params']):\n",
    "    print(np.sqrt(mean_score), params)"
   ]
  },
  {
   "cell_type": "markdown",
   "metadata": {},
   "source": [
    "### Comparison of DT, CV and GSCV prediction scores"
   ]
  },
  {
   "cell_type": "code",
   "execution_count": 24,
   "metadata": {},
   "outputs": [
    {
     "name": "stdout",
     "output_type": "stream",
     "text": [
      "Accuracy on training set: 0.8575\n",
      "Accuracy on test set: 0.8571\n",
      "Accuracy from fit on validation set: 0.8571\n"
     ]
    }
   ],
   "source": [
    "print(f\"Accuracy on training set: {tree_clf.score(X_train, y_train):.4f}\")\n",
    "print(f\"Accuracy on test set: {tree_clf.score(X_test, y_test):.4f}\")\n",
    "print(f\"Accuracy from fit on validation set: {bp_score:.4f}\")"
   ]
  },
  {
   "cell_type": "markdown",
   "metadata": {},
   "source": [
    "### Classification Report Comparison: DT, CV and GSCV"
   ]
  },
  {
   "cell_type": "code",
   "execution_count": 25,
   "metadata": {},
   "outputs": [
    {
     "name": "stdout",
     "output_type": "stream",
     "text": [
      "=====================  y_test -- y_predict ============\n",
      "=======================================================\n",
      "              precision    recall  f1-score   support\n",
      "\n",
      "           0       0.88      0.94      0.91      1033\n",
      "           1       0.79      0.64      0.70       374\n",
      "\n",
      "    accuracy                           0.86      1407\n",
      "   macro avg       0.83      0.79      0.80      1407\n",
      "weighted avg       0.85      0.86      0.85      1407\n",
      "\n",
      "=======================================================\n",
      "============  y_train -- y_predict | Cross-Validation ====\n",
      "=======================================================\n",
      "              precision    recall  f1-score   support\n",
      "\n",
      "           0       0.88      0.93      0.90      2766\n",
      "           1       0.76      0.66      0.71      1002\n",
      "\n",
      "    accuracy                           0.86      3768\n",
      "   macro avg       0.82      0.79      0.81      3768\n",
      "weighted avg       0.85      0.86      0.85      3768\n",
      "\n",
      "=======================================================\n",
      "===  y_test -- y_predict_best_parameters | using validation set ==\n",
      "=======================================================\n",
      "              precision    recall  f1-score   support\n",
      "\n",
      "           0       0.90      0.91      0.90      1033\n",
      "           1       0.74      0.71      0.73       374\n",
      "\n",
      "    accuracy                           0.86      1407\n",
      "   macro avg       0.82      0.81      0.81      1407\n",
      "weighted avg       0.86      0.86      0.86      1407\n",
      "\n"
     ]
    }
   ],
   "source": [
    "print(\"=====================  y_test -- y_predict ============\")\n",
    "print(\"=\"*55)\n",
    "print(classification_report(y_test, y_predict))\n",
    "print(\"=\"*55)\n",
    "print(\"============  y_train -- y_predict | Cross-Validation ====\")\n",
    "print(\"=\"*55)\n",
    "print(classification_report(y_train, y_predict_cv))\n",
    "print(\"=\"*55)\n",
    "print(\"===  y_test -- y_predict_best_parameters | using validation set ==\")\n",
    "print(\"=\"*55)\n",
    "print(classification_report(y_test, y_predict_bp))"
   ]
  },
  {
   "cell_type": "code",
   "execution_count": 26,
   "metadata": {},
   "outputs": [],
   "source": [
    "# scores = np.array(results.mean_test_score).reshape(8, 8)"
   ]
  },
  {
   "cell_type": "code",
   "execution_count": 27,
   "metadata": {},
   "outputs": [],
   "source": [
    "# sns.heatmap(scores, cmap=\"YlGnBu\", vmin=0.75, vmax=1, annot=True)"
   ]
  },
  {
   "cell_type": "code",
   "execution_count": 28,
   "metadata": {},
   "outputs": [],
   "source": [
    "# # Precision - Recall Trade-off (for SGDClassifier)\n",
    "\n",
    "# precisions, recalls, thresholds = precision_recall_curve(y_train, y_scores)\n",
    "#\n",
    "#\n",
    "# def plot_precision_recall_vs_threshold(precisions, recalls, thresholds):\n",
    "#     plt.plot(thresholds, precisions[:,-1], \"b--\", label=\"Precision\")\n",
    "#     plt.plot(thresholds, recalls[:,-1], \"g-\", label=\"Recalls\")\n",
    "#\n",
    "#\n",
    "# plot_precision_recall_vs_threshold(precisions, recalls, thresholds)\n",
    "\n",
    "\n",
    "\n",
    "# # Confusion Matrix plot\n",
    "# matrix = confusion_matrix(y_test, y_predict)\n",
    "# # create pandas dataframe\n",
    "# class_names = ['Churn_no', 'Churn_yes']\n",
    "# dataframe_Confusion = pd.DataFrame(matrix, index=class_names, columns=class_names)\n",
    "# # create heatmap\n",
    "# sns.heatmap(dataframe_Confusion, annot=True,  cmap=\"Blues\", fmt=\".0f\")\n",
    "# plt.title(\"Confusion Matrix\")\n",
    "# plt.tight_layout()\n",
    "# plt.ylabel(\"True Class\")\n",
    "# plt.xlabel(\"Predicted Class\")\n",
    "# plt.savefig('./Images/confusion_matrix.png')\n",
    "# # plt.show()\n",
    "#\n",
    "# Plot of Decision Tree\n",
    "feature_cols = X.columns\n",
    "\n",
    "# pydotplus.graphviz.InvocationException: GraphViz's executables not found\n",
    "# works in Linux after sudo apt-get install graphviz\n",
    "# for Win10, might have to edit Environment variable ???\n",
    "# show_tree(tree_clf, feature_cols, './Images/tree.png')"
   ]
  }
 ],
 "metadata": {
  "kernelspec": {
   "display_name": "Python 3",
   "language": "python",
   "name": "python3"
  },
  "language_info": {
   "codemirror_mode": {
    "name": "ipython",
    "version": 3
   },
   "file_extension": ".py",
   "mimetype": "text/x-python",
   "name": "python",
   "nbconvert_exporter": "python",
   "pygments_lexer": "ipython3",
   "version": "3.7.4"
  }
 },
 "nbformat": 4,
 "nbformat_minor": 2
}
