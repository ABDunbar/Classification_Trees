{
 "cells": [
  {
   "cell_type": "markdown",
   "metadata": {},
   "source": [
    "# Classification"
   ]
  },
  {
   "cell_type": "code",
   "execution_count": 1,
   "metadata": {},
   "outputs": [],
   "source": [
    "from sklearn.base import BaseEstimator\n",
    "class NeverChurnClassifier(BaseEstimator):\n",
    "    def fit(self, X, y=None):\n",
    "        return self\n",
    "    def predict(self, X):\n",
    "        return np.zeros((len(X), 1), dtype=bool)\n",
    "    "
   ]
  },
  {
   "cell_type": "markdown",
   "metadata": {},
   "source": [
    "## Import Libraries"
   ]
  },
  {
   "cell_type": "code",
   "execution_count": 2,
   "metadata": {},
   "outputs": [],
   "source": [
    "import pandas as pd\n",
    "import numpy as np\n",
    "import matplotlib.pyplot as plt\n",
    "import seaborn as sns\n",
    "from Packages.data import load_csv_to_dataframe, plot_roc_curve, plot_feature_importance # show_tree,\n",
    "from Packages.data import plot_learning_curves, train_test\n",
    "%matplotlib inline\n",
    "from sklearn.preprocessing import MinMaxScaler\n",
    "from sklearn.model_selection import train_test_split, cross_val_predict, cross_val_score, GridSearchCV\n",
    "from sklearn.tree import DecisionTreeClassifier, export_graphviz\n",
    "from sklearn.linear_model import LogisticRegression, LogisticRegressionCV\n",
    "from sklearn.neural_network import MLPClassifier\n",
    "from sklearn.neighbors import KNeighborsClassifier\n",
    "from sklearn.svm import SVC\n",
    "from sklearn.gaussian_process import GaussianProcessClassifier\n",
    "from sklearn.gaussian_process.kernels import RBF\n",
    "from sklearn.naive_bayes import GaussianNB\n",
    "from sklearn.discriminant_analysis import QuadraticDiscriminantAnalysis\n",
    "from sklearn.ensemble import BaggingClassifier, AdaBoostClassifier, RandomForestClassifier, VotingClassifier\n",
    "from sklearn.pipeline import Pipeline\n",
    "from sklearn.metrics import precision_score, recall_score, f1_score, precision_recall_curve\n",
    "from sklearn.metrics import roc_curve, roc_auc_score\n",
    "from sklearn.metrics import confusion_matrix, classification_report\n",
    "from sklearn.metrics import accuracy_score, mean_squared_error"
   ]
  },
  {
   "cell_type": "code",
   "execution_count": 3,
   "metadata": {},
   "outputs": [
    {
     "name": "stdout",
     "output_type": "stream",
     "text": [
      "absl-py==0.10.0\n",
      "aiohttp==3.6.2\n",
      "alabaster==0.7.12\n",
      "anaconda-client==1.7.2\n",
      "anaconda-navigator==1.9.12\n",
      "anaconda-project==0.8.3\n",
      "asn1crypto==1.0.1\n",
      "astor==0.8.1\n",
      "astroid==2.3.1\n",
      "astropy==3.2.1\n",
      "async-timeout==3.0.1\n",
      "atomicwrites==1.3.0\n",
      "attrs==19.2.0\n",
      "Babel==2.7.0\n",
      "backcall==0.1.0\n",
      "backports.functools-lru-cache==1.6.1\n",
      "backports.os==0.1.1\n",
      "backports.shutil-get-terminal-size==1.0.0\n",
      "backports.tempfile==1.0\n",
      "backports.weakref==1.0.post1\n",
      "beautifulsoup4==4.8.0\n",
      "bitarray==1.0.1\n",
      "bkcharts==0.2\n",
      "bleach==3.1.0\n",
      "blinker==1.4\n",
      "bokeh==1.3.4\n",
      "boto==2.49.0\n",
      "Bottleneck==1.2.1\n",
      "cachetools==4.1.1\n",
      "certifi==2019.9.11\n",
      "cffi==1.12.3\n",
      "chardet==3.0.4\n",
      "Click==7.0\n",
      "cloudpickle==1.2.2\n",
      "clyent==1.2.2\n",
      "colorama==0.4.1\n",
      "comtypes==1.1.7\n",
      "conda==4.8.5\n",
      "conda-build==3.18.9\n",
      "conda-package-handling==1.7.0\n",
      "conda-verify==3.4.2\n",
      "contextlib2==0.6.0\n",
      "cryptography==2.7\n",
      "cycler==0.10.0\n",
      "Cython==0.29.13\n",
      "cytoolz==0.10.0\n",
      "dask==2.5.2\n",
      "decorator==4.4.0\n",
      "defusedxml==0.6.0\n",
      "dill==0.3.2\n",
      "distributed==2.5.2\n",
      "docutils==0.15.2\n",
      "entrypoints==0.3\n",
      "et-xmlfile==1.0.1\n",
      "fastcache==1.1.0\n",
      "filelock==3.0.12\n",
      "Flask==1.1.1\n",
      "fsspec==0.5.2\n",
      "future==0.18.2\n",
      "gast==0.2.2\n",
      "gevent==1.4.0\n",
      "glob2==0.7\n",
      "google-auth==1.22.0\n",
      "google-auth-oauthlib==0.4.1\n",
      "google-pasta==0.2.0\n",
      "googleapis-common-protos==1.52.0\n",
      "greenlet==0.4.15\n",
      "grpcio==1.27.2\n",
      "h5py==2.9.0\n",
      "HeapDict==1.0.1\n",
      "html5lib==1.0.1\n",
      "idna==2.8\n",
      "imageio==2.6.0\n",
      "imagesize==1.1.0\n",
      "importlib-metadata==1.7.0\n",
      "inflection==0.5.1\n",
      "ipykernel==5.1.2\n",
      "ipython==7.8.0\n",
      "ipython-genutils==0.2.0\n",
      "ipywidgets==7.5.1\n",
      "isort==4.3.21\n",
      "itsdangerous==1.1.0\n",
      "jdcal==1.4.1\n",
      "jedi==0.15.1\n",
      "Jinja2==2.10.3\n",
      "joblib==0.13.2\n",
      "json5==0.8.5\n",
      "jsonschema==3.0.2\n",
      "jupyter==1.0.0\n",
      "jupyter-client==5.3.3\n",
      "jupyter-console==6.0.0\n",
      "jupyter-core==4.5.0\n",
      "jupyterlab==1.1.4\n",
      "jupyterlab-server==1.0.6\n",
      "Keras==2.3.1\n",
      "Keras-Applications==1.0.8\n",
      "Keras-Preprocessing==1.1.0\n",
      "keyring==18.0.0\n",
      "kiwisolver==1.1.0\n",
      "lazy-object-proxy==1.4.2\n",
      "libarchive-c==2.8\n",
      "llvmlite==0.29.0\n",
      "locket==0.2.0\n",
      "lxml==4.4.1\n",
      "Markdown==3.2.2\n",
      "MarkupSafe==1.1.1\n",
      "matplotlib==3.1.1\n",
      "mccabe==0.6.1\n",
      "menuinst==1.4.16\n",
      "mistune==0.8.4\n",
      "mkl-fft==1.0.14\n",
      "mkl-random==1.1.0\n",
      "mkl-service==2.3.0\n",
      "mock==3.0.5\n",
      "more-itertools==7.2.0\n",
      "mpl-finance==0.10.1\n",
      "mplfinance==0.12.3a3\n",
      "mpmath==1.1.0\n",
      "msgpack==0.6.1\n",
      "multidict==4.7.6\n",
      "multipledispatch==0.6.0\n",
      "navigator-updater==0.2.1\n",
      "nbconvert==5.6.0\n",
      "nbformat==4.4.0\n",
      "networkx==2.3\n",
      "nltk==3.4.5\n",
      "nose==1.3.7\n",
      "notebook==6.0.1\n",
      "numba==0.45.1\n",
      "numexpr==2.7.0\n",
      "numpy==1.16.5\n",
      "numpydoc==0.9.1\n",
      "oauthlib==3.1.0\n",
      "olefile==0.46\n",
      "openpyxl==3.0.0\n",
      "opt-einsum==3.1.0\n",
      "packaging==19.2\n",
      "pandas==0.25.1\n",
      "pandas-datareader==0.8.1\n",
      "pandocfilters==1.4.2\n",
      "parso==0.5.1\n",
      "partd==1.0.0\n",
      "path.py==12.0.1\n",
      "pathlib2==2.3.5\n",
      "patsy==0.5.1\n",
      "pep8==1.7.1\n",
      "pickleshare==0.7.5\n",
      "Pillow==6.2.0\n",
      "pkginfo==1.5.0.1\n",
      "pluggy==0.13.0\n",
      "ply==3.11\n",
      "prometheus-client==0.7.1\n",
      "promise==2.3\n",
      "prompt-toolkit==2.0.10\n",
      "protobuf==3.13.0\n",
      "psutil==5.6.3\n",
      "py==1.8.0\n",
      "pyasn1==0.4.8\n",
      "pyasn1-modules==0.2.8\n",
      "pycodestyle==2.5.0\n",
      "pycosat==0.6.3\n",
      "pycparser==2.19\n",
      "pycrypto==2.6.1\n",
      "pycurl==7.43.0.3\n",
      "pyflakes==2.1.1\n",
      "Pygments==2.4.2\n",
      "PyJWT==1.7.1\n",
      "pylint==2.4.2\n",
      "pyodbc==4.0.27\n",
      "pyOpenSSL==19.0.0\n",
      "pyparsing==2.4.2\n",
      "pyreadline==2.1\n",
      "pyrsistent==0.15.4\n",
      "PySocks==1.7.1\n",
      "pytest==5.2.1\n",
      "pytest-arraydiff==0.3\n",
      "pytest-astropy==0.5.0\n",
      "pytest-doctestplus==0.4.0\n",
      "pytest-openfiles==0.4.0\n",
      "pytest-remotedata==0.3.2\n",
      "python-dateutil==2.8.0\n",
      "pytz==2019.3\n",
      "PyWavelets==1.0.3\n",
      "pywin32==223\n",
      "pywinpty==0.5.5\n",
      "PyYAML==5.1.2\n",
      "pyzmq==18.1.0\n",
      "QtAwesome==0.6.0\n",
      "qtconsole==4.5.5\n",
      "QtPy==1.9.0\n",
      "Quandl==3.4.8\n",
      "requests==2.22.0\n",
      "requests-oauthlib==1.3.0\n",
      "rope==0.14.0\n",
      "rsa==4.6\n",
      "ruamel-yaml==0.15.46\n",
      "scikit-image==0.15.0\n",
      "scikit-learn==0.21.3\n",
      "scipy==1.3.1\n",
      "seaborn==0.9.0\n",
      "Send2Trash==1.5.0\n",
      "simplegeneric==0.8.1\n",
      "singledispatch==3.4.0.3\n",
      "six==1.12.0\n",
      "snowballstemmer==2.0.0\n",
      "sortedcollections==1.1.2\n",
      "sortedcontainers==2.1.0\n",
      "soupsieve==1.9.3\n",
      "Sphinx==2.2.0\n",
      "sphinxcontrib-applehelp==1.0.1\n",
      "sphinxcontrib-devhelp==1.0.1\n",
      "sphinxcontrib-htmlhelp==1.0.2\n",
      "sphinxcontrib-jsmath==1.0.1\n",
      "sphinxcontrib-qthelp==1.0.2\n",
      "sphinxcontrib-serializinghtml==1.1.3\n",
      "sphinxcontrib-websupport==1.1.2\n",
      "spyder==3.3.6\n",
      "spyder-kernels==0.5.2\n",
      "SQLAlchemy==1.3.9\n",
      "statsmodels==0.10.1\n",
      "sympy==1.4\n",
      "tables==3.5.2\n",
      "tblib==1.4.0\n",
      "tensorboard==2.2.1\n",
      "tensorboard-plugin-wit==1.6.0\n",
      "tensorflow==2.1.0\n",
      "tensorflow-datasets==1.2.0\n",
      "tensorflow-estimator==2.1.0\n",
      "tensorflow-metadata==0.14.0\n",
      "termcolor==1.1.0\n",
      "terminado==0.8.2\n",
      "testpath==0.4.2\n",
      "toolz==0.10.0\n",
      "tornado==6.0.3\n",
      "tqdm==4.36.1\n",
      "traitlets==4.3.3\n",
      "unicodecsv==0.14.1\n",
      "urllib3==1.24.2\n",
      "wcwidth==0.1.7\n",
      "webencodings==0.5.1\n",
      "Werkzeug==0.16.0\n",
      "widgetsnbextension==3.5.1\n",
      "win-inet-pton==1.1.0\n",
      "win-unicode-console==0.5\n",
      "wincertstore==0.2\n",
      "wrapt==1.11.2\n",
      "xgboost==0.90\n",
      "xlrd==1.2.0\n",
      "XlsxWriter==1.2.1\n",
      "xlwings==0.15.10\n",
      "xlwt==1.3.0\n",
      "xmltodict==0.12.0\n",
      "yarl==1.5.1\n",
      "zict==1.0.0\n",
      "zipp==0.6.0\n",
      "Note: you may need to restart the kernel to use updated packages.\n"
     ]
    }
   ],
   "source": [
    "pip freeze"
   ]
  },
  {
   "cell_type": "markdown",
   "metadata": {},
   "source": [
    "### Load data from Packages.data"
   ]
  },
  {
   "cell_type": "code",
   "execution_count": 4,
   "metadata": {},
   "outputs": [],
   "source": [
    "file = '../Data/data.csv'\n",
    "df = load_csv_to_dataframe(file)\n",
    "# print(df.columns)"
   ]
  },
  {
   "cell_type": "markdown",
   "metadata": {},
   "source": [
    "### Prepare dataframe for train, validation, test split\n",
    "\n",
    "* 'customerID': drop. A random string assigned to each customer.\n",
    "* 'tenure'    : drop. A categorical feature was created for this.\n",
    "* 'MonthlyCharges' : drop. A categorical feature was created for this.\n",
    "* 'TotalCharges'   : drop. A categorical feature ...\n",
    "* 'Churn'          : drop. The label is dropped from the X_train, X_test, X_valid datasets\n",
    "\n",
    "The 'X' dataframe is then one hot encoded via pandas.get_dummies()"
   ]
  },
  {
   "cell_type": "code",
   "execution_count": 5,
   "metadata": {},
   "outputs": [],
   "source": [
    "X = df.drop(['customerID', 'tenure', 'MonthlyCharges', 'TotalCharges', 'Churn', 'Churn_cat'], axis=1)\n",
    "X = pd.get_dummies(X, drop_first=True)\n",
    "y = df['Churn_cat']"
   ]
  },
  {
   "cell_type": "markdown",
   "metadata": {},
   "source": [
    "### Split data into training, validation and test\n",
    "\n",
    "The full dataset is split into three parts (training, test, validation).  \n",
    "\n",
    "Stratified splits due to the unequal partitioning of the dataset (No: 5163 (73%), Yes: 1869 (27%))"
   ]
  },
  {
   "cell_type": "code",
   "execution_count": 6,
   "metadata": {},
   "outputs": [],
   "source": [
    "#X_train, X_test, X_valid, y_train, y_test, y_valid = train_test_valid(X, y)\n",
    "X_train, X_test, y_train, y_test = train_test(X, y)"
   ]
  },
  {
   "cell_type": "code",
   "execution_count": 7,
   "metadata": {},
   "outputs": [
    {
     "name": "stdout",
     "output_type": "stream",
     "text": [
      "Dataframe: (7032, 25), X.shape: (7032, 30), y.shape: (7032,)\n",
      "training shape: (5625, 30),  testing shape: (1407, 30)\n",
      "training labels: (5625,),  testing labels: (1407,)\n"
     ]
    }
   ],
   "source": [
    "print(f\"Dataframe: {df.shape}, X.shape: {X.shape}, y.shape: {y.shape}\")\n",
    "print(f\"training shape: {X_train.shape},  testing shape: {X_test.shape}\") # validiation shape: {X_valid.shape},\n",
    "print(f\"training labels: {y_train.shape},  testing labels: {y_test.shape}\") # validation shape: {y_valid.shape},"
   ]
  },
  {
   "cell_type": "markdown",
   "metadata": {},
   "source": [
    "## White Box Models"
   ]
  },
  {
   "cell_type": "markdown",
   "metadata": {},
   "source": [
    "### DecisionTreeClassifier\n",
    "\n",
    "The assignment is to compare a Decision Tree classifier with Random Forest"
   ]
  },
  {
   "cell_type": "code",
   "execution_count": 35,
   "metadata": {},
   "outputs": [],
   "source": [
    "# From the future....\n",
    "# Best params: {'max_depth': 5, 'max_features': 30, 'max_leaf_nodes': 10, 'min_samples_split': 3}\n",
    "#tree_clf = DecisionTreeClassifier(max_depth=5, max_features=30, max_leaf_nodes=10, min_samples_split=3)\n",
    "tree_clf = DecisionTreeClassifier(random_state=42)\n",
    "tree_clf.fit(X_train, y_train)\n",
    "y_predict_test = tree_clf.predict(X_test)\n",
    "y_predict_train = tree_clf.predict(X_train)"
   ]
  },
  {
   "cell_type": "code",
   "execution_count": 9,
   "metadata": {},
   "outputs": [
    {
     "name": "stdout",
     "output_type": "stream",
     "text": [
      "<bound method BaseEstimator.get_params of DecisionTreeClassifier(class_weight=None, criterion='gini', max_depth=None,\n",
      "                       max_features=None, max_leaf_nodes=None,\n",
      "                       min_impurity_decrease=0.0, min_impurity_split=None,\n",
      "                       min_samples_leaf=1, min_samples_split=2,\n",
      "                       min_weight_fraction_leaf=0.0, presort=False,\n",
      "                       random_state=None, splitter='best')>\n"
     ]
    }
   ],
   "source": [
    "print(tree_clf.get_params)"
   ]
  },
  {
   "cell_type": "markdown",
   "metadata": {},
   "source": [
    "## Grid Search CV : Decision Tree Classifier\n",
    "\n",
    "Consider exploring the following parameters...\n",
    "\n",
    "* 'criterion' : ['gini', 'entropy']\n",
    "* 'max_depth' :\n",
    "* 'min_samples_split' :\n",
    "* 'min_samples_leaf' :\n",
    "* 'max_features' :\n",
    "* 'max_leaf_nodes' :\n",
    "* 'min_impurity_decrease' :"
   ]
  },
  {
   "cell_type": "markdown",
   "metadata": {},
   "source": [
    "how to derive rules from a decision tree and select one or more rules for targeting specific groups. You need to derive rules, 2 or 3 rules for each of churn(yes) and churn(no). \n",
    "\n",
    "You can derive such rules from  different decision trees (learned using different hyperparameter and/or criteria). \n",
    "\n",
    "For this assessment, a rule is considered interesting if the purity of the corresponding leaf is 75% or above and it contains at least 50 cases.\n",
    "\n",
    "min_impurity_decrease: float.   A node will be split if this split induces a decrease of the impurity greater than or equal to this value."
   ]
  },
  {
   "cell_type": "code",
   "execution_count": 10,
   "metadata": {},
   "outputs": [
    {
     "name": "stdout",
     "output_type": "stream",
     "text": [
      "first node: 0.1362\n"
     ]
    }
   ],
   "source": [
    "def impurity_decrease(Nt, NtL, NtR, impurity, impurity_r, impurity_l):\n",
    "    return Nt / 5625 * (impurity - NtR / Nt * impurity_r - NtL / Nt * impurity_l)\n",
    "\n",
    "print(f\"first node: {impurity_decrease(5625, 4130, 1495, 0.39, 0.441, 0.186):.4f}\")\n",
    "# print(f\"second left node: {impurity_decrease(4130, 3604, 418, 0.186, )}\")"
   ]
  },
  {
   "cell_type": "code",
   "execution_count": 11,
   "metadata": {},
   "outputs": [],
   "source": [
    "# Grid Search CV\n",
    "params = {'max_depth' : [2, 5, 10, 20],\n",
    "          'min_samples_split': [3, 10, 30],\n",
    "          'max_leaf_nodes': [3, 10, 30],\n",
    "          'max_features': [3, 10, 30],\n",
    "         'min_samples_leaf': [100, 102, 104, 106]}\n",
    "# \n",
    "grid_search_cv = GridSearchCV(DecisionTreeClassifier(random_state=42), params, cv=5) #  verbose=1, \n",
    "grid_search_cv.fit(X_train, y_train)\n",
    "best_params = grid_search_cv.best_params_"
   ]
  },
  {
   "cell_type": "markdown",
   "metadata": {},
   "source": [
    "### Grid Search CV: best score, best parameters"
   ]
  },
  {
   "cell_type": "code",
   "execution_count": 12,
   "metadata": {},
   "outputs": [
    {
     "name": "stdout",
     "output_type": "stream",
     "text": [
      "Grid search CV, best estimator: DecisionTreeClassifier(class_weight=None, criterion='gini', max_depth=5,\n",
      "                       max_features=30, max_leaf_nodes=10,\n",
      "                       min_impurity_decrease=0.0, min_impurity_split=None,\n",
      "                       min_samples_leaf=100, min_samples_split=3,\n",
      "                       min_weight_fraction_leaf=0.0, presort=False,\n",
      "                       random_state=42, splitter='best')\n",
      "Best score: {'max_depth': 5, 'max_features': 30, 'max_leaf_nodes': 10, 'min_samples_leaf': 100, 'min_samples_split': 3}\n",
      "Best params: {'max_depth': 5, 'max_features': 30, 'max_leaf_nodes': 10, 'min_samples_leaf': 100, 'min_samples_split': 3}\n",
      "Best index: 192\n"
     ]
    }
   ],
   "source": [
    "print(f\"Grid search CV, best estimator: {grid_search_cv.best_estimator_}\")\n",
    "print(f\"Best score: {grid_search_cv.best_params_}\")\n",
    "print(f\"Best params: {grid_search_cv.best_params_}\")\n",
    "print(f\"Best index: {grid_search_cv.best_index_}\")"
   ]
  },
  {
   "cell_type": "markdown",
   "metadata": {},
   "source": [
    "### Grid Search CV: best parameters for Validation"
   ]
  },
  {
   "cell_type": "code",
   "execution_count": 13,
   "metadata": {},
   "outputs": [],
   "source": [
    "best_model_task1 = DecisionTreeClassifier(**best_params)\n",
    "best_model_task1.fit(X_train, y_train)\n",
    "y_predict_bp = best_model_task1.predict(X_test)\n",
    "y_train_predict_bp = best_model_task1.predict(X_train)\n",
    "bp_score = best_model_task1.score(X_test, y_test)"
   ]
  },
  {
   "cell_type": "markdown",
   "metadata": {},
   "source": [
    "### Cross-Validation\n",
    "\n",
    "Cross-Validation predictions based on default DecisionTreeClassifer() (tree_clf)"
   ]
  },
  {
   "cell_type": "code",
   "execution_count": 14,
   "metadata": {},
   "outputs": [],
   "source": [
    "def display_scores(scores):\n",
    "    print(f\"Scores: {scores}\")\n",
    "    print(f\"Mean: {scores.mean():.4f}\")\n",
    "    print(f\"Std: {scores.std():.4f}\")"
   ]
  },
  {
   "cell_type": "code",
   "execution_count": 15,
   "metadata": {},
   "outputs": [
    {
     "name": "stdout",
     "output_type": "stream",
     "text": [
      "Cross-Val predictions score: [0 0 1 ... 0 0 1]\n",
      "Scores: [0.78577778 0.78577778 0.78488889 0.80888889 0.80355556]\n",
      "Mean: 0.7938\n",
      "Std: 0.0103\n"
     ]
    }
   ],
   "source": [
    "# Cross-Val on tree_clf : no parameters\n",
    "y_predict_cv = cross_val_predict(tree_clf, X_train, y_train, cv=5)\n",
    "y_cv_scores = cross_val_score(tree_clf, X_train, y_train, cv=5)\n",
    "#y_cv_scores = cross_val_score(tree_clf, X_train, y_train, cv=5, scoring='neg_mean_squared_error')\n",
    "print(f\"Cross-Val predictions score: {y_predict_cv}\")\n",
    "display_scores(y_cv_scores)"
   ]
  },
  {
   "cell_type": "code",
   "execution_count": 16,
   "metadata": {},
   "outputs": [
    {
     "name": "stdout",
     "output_type": "stream",
     "text": [
      "Cross-Val predictions score: [0 0 1 ... 0 0 1]\n",
      "Scores: [0.84711111 0.85333333 0.84711111 0.84888889 0.85333333]\n",
      "Mean: 0.8500\n",
      "Std: 0.0028\n"
     ]
    }
   ],
   "source": [
    "# Cross-Val on tree_clf_bp : best parameters\n",
    "y_predict_bp_cv = cross_val_predict(best_model_task1, X_train, y_train, cv=5)\n",
    "y_bp_cv_scores = cross_val_score(best_model_task1, X_train, y_train, cv=5, scoring='accuracy')\n",
    "#y_cv_scores = cross_val_score(tree_clf, X_train, y_train, cv=5, scoring='neg_mean_squared_error')\n",
    "print(f\"Cross-Val predictions score: {y_predict_bp_cv}\")\n",
    "display_scores(y_bp_cv_scores)"
   ]
  },
  {
   "cell_type": "code",
   "execution_count": 17,
   "metadata": {},
   "outputs": [
    {
     "name": "stdout",
     "output_type": "stream",
     "text": [
      "|--- SeniorCitizen_Yes <= 0.50\n",
      "|   |--- tenure_cat <= 1.50\n",
      "|   |   |--- InternetService_Fiber optic <= 0.50\n",
      "|   |   |   |--- PaperlessBilling_Yes <= 0.50\n",
      "|   |   |   |   |--- weights: [349.00, 36.00] class: 0\n",
      "|   |   |   |--- PaperlessBilling_Yes >  0.50\n",
      "|   |   |   |   |--- weights: [236.00, 68.00] class: 0\n",
      "|   |   |--- InternetService_Fiber optic >  0.50\n",
      "|   |   |   |--- weights: [151.00, 132.00] class: 0\n",
      "|   |--- tenure_cat >  1.50\n",
      "|   |   |--- PaymentMethod_Electronic check <= 0.50\n",
      "|   |   |   |--- weights: [2280.00, 82.00] class: 0\n",
      "|   |   |--- PaymentMethod_Electronic check >  0.50\n",
      "|   |   |   |--- tenure_cat <= 2.50\n",
      "|   |   |   |   |--- weights: [109.00, 38.00] class: 0\n",
      "|   |   |   |--- tenure_cat >  2.50\n",
      "|   |   |   |   |--- weights: [479.00, 62.00] class: 0\n",
      "|--- SeniorCitizen_Yes >  0.50\n",
      "|   |--- tenure_cat <= 5.50\n",
      "|   |   |--- tenure_cat <= 1.50\n",
      "|   |   |   |--- weights: [68.00, 532.00] class: 1\n",
      "|   |   |--- tenure_cat >  1.50\n",
      "|   |   |   |--- weights: [223.00, 431.00] class: 1\n",
      "|   |--- tenure_cat >  5.50\n",
      "|   |   |--- Contract_Two year <= 0.50\n",
      "|   |   |   |--- weights: [133.00, 93.00] class: 0\n",
      "|   |   |--- Contract_Two year >  0.50\n",
      "|   |   |   |--- weights: [102.00, 21.00] class: 0\n",
      "\n"
     ]
    }
   ],
   "source": [
    "from sklearn.tree import export_text\n",
    "r = export_text(best_model_task1, show_weights=True, feature_names= list(X.columns)) \n",
    "print(r)"
   ]
  },
  {
   "cell_type": "markdown",
   "metadata": {},
   "source": [
    "## Evaluation of White Box Models\n",
    "\n",
    "* For untuned model and tuned model(s)\n",
    "* Accuracy ($\\hat{y} - y$)\n",
    "* Error (MSE, RMSE)\n",
    "* Cross-Validation (n-fold scores, mean, standard deviation)\n",
    "* Confustion Matrix\n",
    "* Precision\n",
    "* Recall"
   ]
  },
  {
   "cell_type": "code",
   "execution_count": 18,
   "metadata": {},
   "outputs": [
    {
     "name": "stdout",
     "output_type": "stream",
     "text": [
      "Untuned, training data\n",
      "[[4098   32]\n",
      " [  89 1406]]\n",
      "Untuned, test data\n",
      "[[874 159]\n",
      " [137 237]]\n",
      "\n",
      "Best parameters, test data\n",
      "[[954  79]\n",
      " [124 250]]\n",
      "\n",
      "Untuned: Cross-Val, training data\n",
      "[[3567  563]\n",
      " [ 619  876]]\n",
      "\n",
      "Best parameters: Cross-Val, training data\n",
      "[[3824  306]\n",
      " [ 538  957]]\n"
     ]
    }
   ],
   "source": [
    "# Confusion Matrix results\n",
    "print(\"Untuned, training data\")\n",
    "print(confusion_matrix(y_train, y_predict_train))\n",
    "print(\"Untuned, test data\")\n",
    "print(confusion_matrix(y_test, y_predict_test))\n",
    "print()\n",
    "print(\"Best parameters, test data\")\n",
    "print(confusion_matrix(y_test, y_predict_bp))\n",
    "\n",
    "\n",
    "print()\n",
    "print(\"Untuned: Cross-Val, training data\")\n",
    "print(confusion_matrix(y_train, y_predict_cv))\n",
    "print()\n",
    "print(\"Best parameters: Cross-Val, training data\")\n",
    "print(confusion_matrix(y_train, y_predict_bp_cv))"
   ]
  },
  {
   "cell_type": "code",
   "execution_count": 24,
   "metadata": {},
   "outputs": [],
   "source": [
    "# create heatmap\n",
    "import seaborn as sns\n",
    "def confusion_plot(y, y_pred):\n",
    "    matrix = confusion_matrix(y, y_pred)\n",
    "    print(matrix)\n",
    "    row_names = ['True No', 'True Yes']\n",
    "    col_names = ['Predict No', 'Predict Yes']\n",
    "    df_confusion = pd.DataFrame(matrix, index=row_names, columns=col_names)\n",
    "    print(df_confusion)\n",
    "    plt.figure(figsize = (6,5))\n",
    "    sns.heatmap(df_confusion, annot=True,  cmap=\"Blues\", fmt=\".0f\", annot_kws={\"size\": 16})    \n",
    "    sns.set(font_scale=1.4)#for label size  \n",
    "    plt.ylim([0,2])\n",
    "    plt.gca().invert_yaxis()\n",
    "    plt.title(\"Confusion Matrix\")\n",
    "    #plt.ylabel(\"True Class\")\n",
    "    #plt.xlabel(\"Predicted Class\")\n",
    "    plt.savefig('./confusion_matrix.png')\n",
    "    plt.show()\n",
    "    plt.close()\n",
    "    "
   ]
  },
  {
   "cell_type": "code",
   "execution_count": 39,
   "metadata": {},
   "outputs": [
    {
     "name": "stdout",
     "output_type": "stream",
     "text": [
      "[[875 158]\n",
      " [141 233]]\n",
      "          Predict No  Predict Yes\n",
      "True No          875          158\n",
      "True Yes         141          233\n"
     ]
    },
    {
     "data": {
      "image/png": "[encoded data removed]",
      "text/plain": [
       "<Figure size 432x360 with 2 Axes>"
      ]
     },
     "metadata": {},
     "output_type": "display_data"
    }
   ],
   "source": [
    "confusion_plot(y_test, y_predict_test)"
   ]
  },
  {
   "cell_type": "code",
   "execution_count": 38,
   "metadata": {
    "scrolled": false
   },
   "outputs": [
    {
     "name": "stdout",
     "output_type": "stream",
     "text": [
      "[[954  79]\n",
      " [124 250]]\n",
      "          Predict No  Predict Yes\n",
      "True No          954           79\n",
      "True Yes         124          250\n"
     ]
    },
    {
     "data": {
      "image/png": "[encoded data removed]",
      "text/plain": [
       "<Figure size 432x360 with 2 Axes>"
      ]
     },
     "metadata": {},
     "output_type": "display_data"
    }
   ],
   "source": [
    "confusion_plot(y_test, y_predict_bp)"
   ]
  },
  {
   "cell_type": "code",
   "execution_count": 22,
   "metadata": {
    "scrolled": false
   },
   "outputs": [
    {
     "name": "stdout",
     "output_type": "stream",
     "text": [
      "[[3567  563]\n",
      " [ 619  876]]\n",
      "          Predict No  Predict Yes\n",
      "True No         3567          563\n",
      "True Yes         619          876\n"
     ]
    },
    {
     "data": {
      "image/png": "[encoded data removed]",
      "text/plain": [
       "<Figure size 432x360 with 2 Axes>"
      ]
     },
     "metadata": {},
     "output_type": "display_data"
    }
   ],
   "source": [
    "confusion_plot(y_train, y_predict_cv)"
   ]
  },
  {
   "cell_type": "code",
   "execution_count": 23,
   "metadata": {},
   "outputs": [
    {
     "name": "stdout",
     "output_type": "stream",
     "text": [
      "[[3824  306]\n",
      " [ 538  957]]\n",
      "          Predict No  Predict Yes\n",
      "True No         3824          306\n",
      "True Yes         538          957\n"
     ]
    },
    {
     "data": {
      "image/png": "[encoded data removed]",
      "text/plain": [
       "<Figure size 432x360 with 2 Axes>"
      ]
     },
     "metadata": {},
     "output_type": "display_data"
    }
   ],
   "source": [
    "confusion_plot(y_train, y_predict_bp_cv)"
   ]
  },
  {
   "cell_type": "markdown",
   "metadata": {},
   "source": [
    "### Classification Report"
   ]
  },
  {
   "cell_type": "code",
   "execution_count": null,
   "metadata": {},
   "outputs": [],
   "source": [
    "print(sum(y_predict_train))\n",
    "print(sum(y_predict_cv))\n",
    "print(sum(y_predict_bp_cv))\n",
    "################################################33\n",
    "print(\"Accuracy for untuned\")\n",
    "print(f\"Accuracy on training set: {tree_clf.score(X_train, y_train):.4f}\")\n",
    "print(f\"Accuracy on test set:     {tree_clf.score(X_test, y_test):.4f}\")\n",
    "print(f\"Accuracy on cv set:       {tree_clf.score(X_train, y_predict_cv):.4f}\")\n",
    "\n",
    "print(\"Accuracy for tuned\")\n",
    "print(f\"Accuracy on training set: {best_model_task1.score(X_train, y_train):.4f}\")\n",
    "print(f\"Accuracy on test set:     {best_model_task1.score(X_test, y_test):.4f}\")\n",
    "print(f\"Accuracy on cv set:       {best_model_task1.score(X_train, y_predict_cv):.4f}\")\n",
    "\n",
    "######################################################\n",
    "print()\n",
    "# Precision, Recall and F1 Scores\n",
    "print(\"Precision, Recall, F1 scores for 'Untuned'\")\n",
    "print(\"=\"*42)\n",
    "print(f\"Precision (test) : {precision_score(y_test, y_predict_test):.4f}\")\n",
    "print(f\"Recall    (test) : {recall_score(y_test, y_predict_test):.4f}\")\n",
    "print(f\"F1        (test) : {f1_score(y_test, y_predict_test):.4f}\")\n",
    "print('*'*8 + \"Cross-Validation \"+'*'*8)\n",
    "print(f\"Precision (train): {precision_score(y_train, y_predict_cv):.4f}\")\n",
    "print(f\"Recall    (train): {recall_score(y_train, y_predict_cv):.4f}\")\n",
    "print(f\"F1        (train): {f1_score(y_train, y_predict_cv):.4f}\")\n",
    "\n",
    "print(\"Precision, Recall, F1 scores for 'Best Parameters'\")\n",
    "print(\"=\"*42)\n",
    "print(f\"Precision (test) : {precision_score(y_test, y_predict_bp):.4f}\")\n",
    "print(f\"Recall    (test) : {recall_score(y_test, y_predict_bp):.4f}\")\n",
    "print(f\"F1        (test) : {f1_score(y_test, y_predict_bp):.4f}\")\n",
    "print('*'*8 + \"Cross-Validation \"+'*'*8)\n",
    "print(f\"Precision (train): {precision_score(y_train, y_predict_bp_cv):.4f}\")\n",
    "print(f\"Recall    (train): {recall_score(y_train, y_predict_bp_cv):.4f}\")\n",
    "print(f\"F1        (train): {f1_score(y_train, y_predict_bp_cv):.4f}\")"
   ]
  },
  {
   "cell_type": "code",
   "execution_count": null,
   "metadata": {},
   "outputs": [],
   "source": [
    "### ROC Curve\n",
    "\n",
    "# Compute y scores for input to metrics\n",
    "y_probas = cross_val_predict(best_model_task1, X_train, y_train, cv=5, method='predict_proba')  # method='decision_function'\n",
    "y_scores = y_probas[:, 1]\n",
    "\n",
    "fpr, tpr, thresholds = roc_curve(y_train, y_scores)\n",
    "plot_roc_curve(fpr, tpr)"
   ]
  },
  {
   "cell_type": "code",
   "execution_count": null,
   "metadata": {},
   "outputs": [],
   "source": [
    "### ROC AUC\n",
    "\n",
    "# The Area Under Curve (AUC) returns ...\n",
    "\n",
    "# ROC AUC Curve\n",
    "print(f\"ROC AUC: {roc_auc_score(y_train, y_scores):.4f}\")"
   ]
  },
  {
   "cell_type": "code",
   "execution_count": null,
   "metadata": {},
   "outputs": [],
   "source": [
    "### Comment on ROC and AUC\n",
    "\n",
    "# * Score of 0.8831 on Area under the curve => "
   ]
  },
  {
   "cell_type": "code",
   "execution_count": null,
   "metadata": {},
   "outputs": [],
   "source": [
    "### Feature Importance\n",
    "\n",
    "# print(f\"Feature importances:\\n{tree_clf.feature_importances_}\")\n",
    "\n",
    "plot_feature_importance(X, best_model_task1)"
   ]
  },
  {
   "cell_type": "code",
   "execution_count": null,
   "metadata": {},
   "outputs": [],
   "source": [
    "plot_feature_importance(X, tree_clf)"
   ]
  },
  {
   "cell_type": "code",
   "execution_count": null,
   "metadata": {},
   "outputs": [],
   "source": [
    "\n",
    "plot_learning_curves(tree_clf, X, y, 1000)"
   ]
  },
  {
   "cell_type": "code",
   "execution_count": null,
   "metadata": {},
   "outputs": [],
   "source": [
    "\n",
    "plot_learning_curves(best_model_task1, X, y, 1000)"
   ]
  },
  {
   "cell_type": "code",
   "execution_count": null,
   "metadata": {},
   "outputs": [],
   "source": [
    "### Comparison of DT, CV and GSCV prediction scores\n",
    "\n",
    "# print(f\"Accuracy on training set: {tree_clf.score(X_train, y_train):.4f}\")  # ? not fitted yet ??\n",
    "print(f\"Accuracy on test set: {tree_clf.score(X_test, y_test):.4f}\")\n",
    "#print(f\"Accuracy from fit on validation set: {bp_score:.4f}\")\n",
    "\n",
    "### Classification Report Comparison: DT, CV and GSCV\n",
    "\n",
    "print(\"=====================  y_test -- y_predict ============\")\n",
    "print(\"=\"*55)\n",
    "print(classification_report(y_test, y_predict_test))\n",
    "print(\"=\"*55)\n",
    "print(\"===  y_test -- y_predict_best_parameters | using validation set ==\")\n",
    "print(\"=\"*55)\n",
    "print(classification_report(y_test, y_predict_bp))"
   ]
  },
  {
   "cell_type": "code",
   "execution_count": null,
   "metadata": {},
   "outputs": [],
   "source": []
  },
  {
   "cell_type": "markdown",
   "metadata": {},
   "source": [
    "## Black Box Models"
   ]
  },
  {
   "cell_type": "markdown",
   "metadata": {},
   "source": [
    "### Voting Classifier"
   ]
  },
  {
   "cell_type": "code",
   "execution_count": null,
   "metadata": {},
   "outputs": [],
   "source": [
    "# Create an instance of every classifier for comparison\n",
    "knn_clf = KNeighborsClassifier(7)\n",
    "# logcv_clf = LogisticRegressionCV(\n",
    "#     Cs=list(np.power(10.0, np.arange(-10, 10))),\n",
    "#     penalty='l2', \n",
    "#     scoring='roc_auc',\n",
    "#     cv=5,\n",
    "#     random_state=777,\n",
    "#     max_iter=10000,\n",
    "#     fit_intercept=True,\n",
    "#     solver='newton-cg',\n",
    "#     tol=10\n",
    "#     )\n",
    "log_clf = LogisticRegression(max_iter=1000)\n",
    "lsvm_clf = SVC(kernel=\"linear\", C=0.025)\n",
    "rbfsvm_clf = SVC(gamma=2, C=1)\n",
    "gaus_clf = GaussianProcessClassifier(1.0 * RBF(1.0))\n",
    "dtree_clf = DecisionTreeClassifier(**best_params)\n",
    "rf_clf = RandomForestClassifier(max_depth=5, n_estimators=10, max_features=10)\n",
    "mlpnn_clf = MLPClassifier(max_iter=1000)\n",
    "ada_clf = AdaBoostClassifier()\n",
    "gausb_clf = GaussianNB()\n",
    "qda_clf = QuadraticDiscriminantAnalysis()"
   ]
  },
  {
   "cell_type": "code",
   "execution_count": null,
   "metadata": {},
   "outputs": [],
   "source": [
    "voting_clf = VotingClassifier(\n",
    "    estimators=[('knn', knn_clf),\n",
    "                #('logcv', logcv_clf),\n",
    "                ('log', log_clf),\n",
    "                ('lsvm', lsvm_clf),\n",
    "                #('rbfsvm', rbfsvm_clf),\n",
    "                ('gaus', gaus_clf),\n",
    "                ('dtree', dtree_clf),\n",
    "                ('rf', rf_clf),\n",
    "                #('mlpnn', mlpnn_clf),\n",
    "                ('ada', ada_clf),\n",
    "                #('gausb', gausb_clf),\n",
    "                #('qda', qda_clf)\n",
    "                ],\n",
    "    voting='hard')\n",
    "voting_clf.fit(X_train, y_train)"
   ]
  },
  {
   "cell_type": "markdown",
   "metadata": {},
   "source": [
    "### Bagging"
   ]
  },
  {
   "cell_type": "code",
   "execution_count": null,
   "metadata": {},
   "outputs": [],
   "source": [
    "# Bagging Decision Tree Classifier\n",
    "bag_clf = BaggingClassifier(\n",
    "    DecisionTreeClassifier(), n_estimators=500,\n",
    "    max_samples=100, bootstrap=True, n_jobs=-1)\n",
    "bag_clf.fit(X_train, y_train)\n",
    "\n",
    "y_pred_bag_dt = bag_clf.predict(X_test)"
   ]
  },
  {
   "cell_type": "code",
   "execution_count": null,
   "metadata": {},
   "outputs": [],
   "source": [
    "# Bagging Logistic Regression Classifier\n",
    "bag_clf = BaggingClassifier(\n",
    "    LogisticRegression(max_iter=2000), n_estimators=500,\n",
    "    max_samples=100, bootstrap=True, n_jobs=-1)\n",
    "bag_clf.fit(X_train, y_train)\n",
    "\n",
    "y_pred_bag_lr = bag_clf.predict(X_test)"
   ]
  },
  {
   "cell_type": "markdown",
   "metadata": {},
   "source": [
    "### Boosting"
   ]
  },
  {
   "cell_type": "code",
   "execution_count": null,
   "metadata": {},
   "outputs": [],
   "source": [
    "# ada_clf = AdaBoostClassifier(\n",
    "#     base_estimator=tree_clf, n_estimators=10,\n",
    "#     algorithm=\"SAMME.R\", learning_rate= 1)\n",
    "# # Accuracy: 0.8606965\n",
    "log_ada_clf = LogisticRegression()\n",
    "adaboost_clf = AdaBoostClassifier(\n",
    "    base_estimator=log_ada_clf, n_estimators=10,\n",
    "    algorithm=\"SAMME.R\", learning_rate= 1)\n",
    "# Accuracy: 0.840085\n",
    "\n",
    "# ada_clf = AdaBoostClassifier(\n",
    "#     base_estimator=voting_clf, n_estimators=10,\n",
    "#     algorithm=\"SAMME\", learning_rate= 1)\n",
    "# # Accuracy: 0.8294243070362474\n",
    "\n",
    "# ada_clf = AdaBoostClassifier(\n",
    "#     base_estimator=bag_clf, n_estimators=10,\n",
    "#     algorithm=\"SAMME.R\", learning_rate= 1)v\n",
    "# # Accuracy: 0.8599857853589197\n",
    "\n",
    "adaboost_clf.fit(X_train, y_train)\n",
    "\n",
    "# Generate predictions for test dataset\n",
    "y_pred_boost = adaboost_clf.predict(X_test)"
   ]
  },
  {
   "cell_type": "markdown",
   "metadata": {},
   "source": [
    "### Gradient Boosting"
   ]
  },
  {
   "cell_type": "code",
   "execution_count": null,
   "metadata": {},
   "outputs": [],
   "source": [
    "\n",
    "\n",
    "# tree_reg1 = DecisionTreeRegressor(max_depth=5)\n",
    "# tree_reg1.fit(X_train, y_train)\n",
    "\n",
    "# y2 = y - tree_reg1.predict(X)\n",
    "# tree_reg2 = DecisionTreeRegressor(max_depth=4)\n",
    "# tree_reg2.fit(X_train, y2)\n",
    "\n",
    "# y3 = y2 - tree_reg2.predict(X)\n",
    "# tree_reg3 = DecisionTreeRegressor(max_depth=2)\n",
    "# tree_reg3.fit(X_train, y3)\n",
    "\n",
    "# y_pred = sum(tree.predict(X_new) for tree in (tree_reg1, tree_reg2, tree_reg3))\n",
    "\n",
    "# y_pred.shape"
   ]
  },
  {
   "cell_type": "code",
   "execution_count": null,
   "metadata": {},
   "outputs": [],
   "source": [
    "## Logistic Regression Classifier\n",
    "\n",
    "# scaler = MinMaxScaler(feature_range=(0,1))\n",
    "# scaler.fit(X_train)\n",
    "# X_train = scaler.transform(X_train)\n",
    "# X_test = scaler.transform(X_test)\n",
    "# X_valid = scaler.transform(X_valid)\n",
    "\n",
    "\n",
    "\n",
    "# pipe = Pipeline([('classifier', RandomForestClassifier())])\n",
    "\n",
    "# param_grid = [\n",
    "#     {\n",
    "#         'classifier' : [LogisticRegression()],\n",
    "#         'classifier__penalty' : ['l1', 'l2'],\n",
    "#         'classifier__C' : np.logspace(-4, 4, 20),\n",
    "#         'classifier__solver' : ['liblinear']\n",
    "#     },\n",
    "#     {\n",
    "#         'classifier' : [RandomForestClassifier()],\n",
    "#         'classifier__n_estimators' : list(range(10, 101, 10)),\n",
    "#         'classifier__max_features' : list(range(6, 32, 5))\n",
    "#     }\n",
    "# ]\n",
    "\n",
    "# clf = GridSearchCV(pipe, param_grid = param_grid, cv=5, verbose=True, n_jobs=-1)\n",
    "\n",
    "# best_clf = clf.fit(X_train, y_train)"
   ]
  },
  {
   "cell_type": "code",
   "execution_count": null,
   "metadata": {},
   "outputs": [],
   "source": [
    "### Logistic Regression Parameter Settings\n",
    "\n",
    "# https://github.com/scikit-learn/scikit-learn/issues/6619\n",
    "\n",
    "# l1 (Lasso) penalty\n",
    "\n",
    "searchCV = LogisticRegressionCV(\n",
    "    # Each of the values in Cs describes the inverse of regularization strength.\n",
    "    Cs=list(np.power(10.0, np.arange(-10, 10))),\n",
    "    # penalty{‘l1’, ‘l2’, ‘elasticnet’}, default=’l2’\n",
    "    # The ‘newton-cg’, ‘sag’ and ‘lbfgs’ solvers support only l2 penalties. \n",
    "    # ‘elasticnet’ is only supported by the ‘saga’ solver.\n",
    "    penalty='l1',\n",
    "    # The default scoring option used is ‘accuracy’.\n",
    "    # For a list of scoring functions that can be used, look at sklearn.metrics\n",
    "    scoring='roc_auc',\n",
    "    cv=5,\n",
    "    random_state=777,\n",
    "    max_iter=10000,\n",
    "    # Specifies if a constant (a.k.a. bias or intercept) should be added to the decision function.\n",
    "    # fit_intercept : bool, default=True\n",
    "    fit_intercept=True,\n",
    "    # Algorithm to use in the optimization problem.\n",
    "    # solver{‘newton-cg’, ‘lbfgs’, ‘liblinear’, ‘sag’, ‘saga’}, default=’lbfgs’\n",
    "    solver='saga',\n",
    "    # Tolerance for stopping criteria\n",
    "    tol=10\n",
    "    )\n",
    "searchCV.fit(X_train, y_train)"
   ]
  },
  {
   "cell_type": "code",
   "execution_count": null,
   "metadata": {},
   "outputs": [],
   "source": [
    "# l2 (ridge) penalty\n",
    "\n",
    "searchCV = LogisticRegressionCV(\n",
    "    # Each of the values in Cs describes the inverse of regularization strength.\n",
    "    Cs=list(np.power(10.0, np.arange(-10, 10))),\n",
    "    # penalty{‘l1’, ‘l2’, ‘elasticnet’}, default=’l2’\n",
    "    # The ‘newton-cg’, ‘sag’ and ‘lbfgs’ solvers support only l2 penalties. \n",
    "    # ‘elasticnet’ is only supported by the ‘saga’ solver.\n",
    "    penalty='l2', #'l1', # \n",
    "    # The default scoring option used is ‘accuracy’.\n",
    "    # For a list of scoring functions that can be used, look at sklearn.metrics\n",
    "    scoring='roc_auc',# 'accuracy',#'neg_log_loss',#\n",
    "    cv=5,\n",
    "    random_state=777,\n",
    "    max_iter=10000,\n",
    "    # Specifies if a constant (a.k.a. bias or intercept) should be added to the decision function.\n",
    "    # fit_intercept : bool, default=True\n",
    "    fit_intercept=True,\n",
    "    # Algorithm to use in the optimization problem.\n",
    "    # solver{‘newton-cg’, ‘lbfgs’, ‘liblinear’, ‘sag’, ‘saga’}, default=’lbfgs’\n",
    "    solver='newton-cg',#'lbfgs', # 'sag',#\n",
    "    # l1_ratioslist of float, default=None\n",
    "    #l1_ratios = [0.5],\n",
    "    # Tolerance for stopping criteria\n",
    "    tol=10\n",
    "    )\n",
    "searchCV.fit(X_train, y_train)"
   ]
  },
  {
   "cell_type": "markdown",
   "metadata": {},
   "source": [
    "# Scores, etc"
   ]
  },
  {
   "cell_type": "code",
   "execution_count": null,
   "metadata": {},
   "outputs": [],
   "source": [
    "### Logistic Regression Model Tuning\n",
    "\n",
    "print(f\"{clf.predict_proba(X_test).shape}\")\n",
    "\n",
    "print(f\"Accuracy score on train data: {clf.score(X_train, y_train):.4f}\")\n",
    "print(f\"Accuracy score on test data: {clf.score(X_test, y_test):.4f}\")\n",
    "print(f\"Accuracy score on validation data: {clf.score(X_valid, y_valid):.4f}\")\n",
    "\n",
    "#print ('Max auc_roc:', best_clf.scores_[1].max())\n",
    "\n",
    "print(f\"Accuracy score on train data: {best_clf.score(X_train, y_train):.4f}\")\n",
    "print(f\"Accuracy score on test data: {best_clf.score(X_test, y_test):.4f}\")\n",
    "print(f\"Accuracy score on validation data: {best_clf.score(X_valid, y_valid):.4f}\")"
   ]
  },
  {
   "cell_type": "code",
   "execution_count": null,
   "metadata": {},
   "outputs": [],
   "source": [
    "print ('Max auc_roc:', searchCV.scores_[1].max())\n",
    "\n",
    "print(f\"Accuracy score on train data: {searchCV.score(X_train, y_train):.4f}\")\n",
    "print(f\"Accuracy score on test data: {searchCV.score(X_test, y_test):.4f}\")\n",
    "#print(f\"Accuracy score on validation data: {searchCV.score(X_valid, y_valid):.4f}\")\n",
    "\n",
    "# print(searchCV.scores_)\n",
    "# print(searchCV.coef_)\n",
    "\n",
    "# how to get the final parameters?"
   ]
  },
  {
   "cell_type": "code",
   "execution_count": null,
   "metadata": {},
   "outputs": [],
   "source": [
    "print ('Max auc_roc:', searchCV.scores_[1].max())\n",
    "\n",
    "print(f\"Accuracy score on train data: {searchCV.score(X_train, y_train):.4f}\")\n",
    "print(f\"Accuracy score on test data: {searchCV.score(X_test, y_test):.4f}\")\n",
    "#print(f\"Accuracy score on validation data: {searchCV.score(X_valid, y_valid):.4f}\")"
   ]
  },
  {
   "cell_type": "code",
   "execution_count": null,
   "metadata": {},
   "outputs": [],
   "source": [
    "test_acc = []\n",
    "for clf in (knn_clf, log_clf, lsvm_clf,  gaus_clf, dtree_clf, rf_clf, ada_clf,  voting_clf): # rbfsvm_clf,gausb_clf, qda_clf,mlpnn_clf, \n",
    "    clf.fit(X_train, y_train)\n",
    "    y_pred = clf.predict(X_test)\n",
    "    test_acc.append((clf.__class__.__name__, accuracy_score(y_test, y_pred)))\n",
    "    #print(clf.__class__.__name__, accuracy_score(y_test, y_pred))"
   ]
  },
  {
   "cell_type": "code",
   "execution_count": null,
   "metadata": {
    "scrolled": false
   },
   "outputs": [],
   "source": [
    "# bagging\n",
    "print(classification_report(y_test, y_pred_bag_dt))\n",
    "\n",
    "print(classification_report(y_test, y_pred_bag_lr))"
   ]
  },
  {
   "cell_type": "code",
   "execution_count": null,
   "metadata": {},
   "outputs": [],
   "source": [
    "# Boosting  \n",
    "print(\"Accuracy:\", accuracy_score(y_test, y_pred_boost))\n",
    "print(f\"Classification Report: {classification_report(y_test, y_pred_boost)}\")"
   ]
  },
  {
   "cell_type": "code",
   "execution_count": null,
   "metadata": {},
   "outputs": [],
   "source": [
    "results = pd.DataFrame(grid_search_cv.cv_results_)\n",
    "print(results.shape)\n",
    "# results.head()\n",
    "\n",
    "cvrs = grid_search_cv.cv_results_\n",
    "# for mean_score, params in zip(cvrs['mean_test_score'], cvrs['params']):\n",
    "#     print(np.sqrt(mean_score), params)"
   ]
  }
 ],
 "metadata": {
  "kernelspec": {
   "display_name": "Python 3",
   "language": "python",
   "name": "python3"
  },
  "language_info": {
   "codemirror_mode": {
    "name": "ipython",
    "version": 3
   },
   "file_extension": ".py",
   "mimetype": "text/x-python",
   "name": "python",
   "nbconvert_exporter": "python",
   "pygments_lexer": "ipython3",
   "version": "3.7.4"
  }
 },
 "nbformat": 4,
 "nbformat_minor": 2
}
